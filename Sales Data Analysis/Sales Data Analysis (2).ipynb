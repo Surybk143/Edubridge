{
 "cells": [
  {
   "cell_type": "markdown",
   "metadata": {},
   "source": [
    "# Analysis Of TotalSales of Products  by Stores;"
   ]
  },
  {
   "cell_type": "markdown",
   "metadata": {},
   "source": [
    "# Import libraries;"
   ]
  },
  {
   "cell_type": "code",
   "execution_count": 1,
   "metadata": {},
   "outputs": [],
   "source": [
    "import numpy as np\n",
    "import pandas as pd\n",
    "import seaborn as sns\n",
    "import matplotlib.pyplot as plt\n",
    "from matplotlib import style\n",
    "import warnings\n",
    "warnings.filterwarnings('ignore')"
   ]
  },
  {
   "cell_type": "markdown",
   "metadata": {},
   "source": [
    "# Read the file;"
   ]
  },
  {
   "cell_type": "code",
   "execution_count": 2,
   "metadata": {},
   "outputs": [],
   "source": [
    "Sales=pd.read_csv(r'D:\\Desktop\\Sales.csv')"
   ]
  },
  {
   "cell_type": "markdown",
   "metadata": {},
   "source": [
    "# View the data;"
   ]
  },
  {
   "cell_type": "code",
   "execution_count": 3,
   "metadata": {
    "scrolled": true
   },
   "outputs": [
    {
     "data": {
      "text/html": [
       "<div>\n",
       "<style scoped>\n",
       "    .dataframe tbody tr th:only-of-type {\n",
       "        vertical-align: middle;\n",
       "    }\n",
       "\n",
       "    .dataframe tbody tr th {\n",
       "        vertical-align: top;\n",
       "    }\n",
       "\n",
       "    .dataframe thead th {\n",
       "        text-align: right;\n",
       "    }\n",
       "</style>\n",
       "<table border=\"1\" class=\"dataframe\">\n",
       "  <thead>\n",
       "    <tr style=\"text-align: right;\">\n",
       "      <th></th>\n",
       "      <th>Store</th>\n",
       "      <th>Salesperson</th>\n",
       "      <th>Product</th>\n",
       "      <th>TotalSales</th>\n",
       "    </tr>\n",
       "  </thead>\n",
       "  <tbody>\n",
       "    <tr>\n",
       "      <th>0</th>\n",
       "      <td>Store A</td>\n",
       "      <td>Rep F</td>\n",
       "      <td>Product F</td>\n",
       "      <td>170</td>\n",
       "    </tr>\n",
       "    <tr>\n",
       "      <th>1</th>\n",
       "      <td>Store A</td>\n",
       "      <td>Rep I</td>\n",
       "      <td>Product J</td>\n",
       "      <td>130</td>\n",
       "    </tr>\n",
       "    <tr>\n",
       "      <th>2</th>\n",
       "      <td>Store B</td>\n",
       "      <td>Rep D</td>\n",
       "      <td>Product F</td>\n",
       "      <td>400</td>\n",
       "    </tr>\n",
       "    <tr>\n",
       "      <th>3</th>\n",
       "      <td>Store C</td>\n",
       "      <td>Rep B</td>\n",
       "      <td>Product F</td>\n",
       "      <td>280</td>\n",
       "    </tr>\n",
       "    <tr>\n",
       "      <th>4</th>\n",
       "      <td>Store C</td>\n",
       "      <td>Rep H</td>\n",
       "      <td>Product B</td>\n",
       "      <td>450</td>\n",
       "    </tr>\n",
       "    <tr>\n",
       "      <th>5</th>\n",
       "      <td>Store C</td>\n",
       "      <td>Rep H</td>\n",
       "      <td>Product J</td>\n",
       "      <td>208</td>\n",
       "    </tr>\n",
       "    <tr>\n",
       "      <th>6</th>\n",
       "      <td>Store D</td>\n",
       "      <td>Rep D</td>\n",
       "      <td>Product E</td>\n",
       "      <td>375</td>\n",
       "    </tr>\n",
       "    <tr>\n",
       "      <th>7</th>\n",
       "      <td>Store F</td>\n",
       "      <td>Rep A</td>\n",
       "      <td>Product A</td>\n",
       "      <td>35</td>\n",
       "    </tr>\n",
       "    <tr>\n",
       "      <th>8</th>\n",
       "      <td>Store F</td>\n",
       "      <td>Rep B</td>\n",
       "      <td>Product D</td>\n",
       "      <td>36</td>\n",
       "    </tr>\n",
       "    <tr>\n",
       "      <th>9</th>\n",
       "      <td>Store F</td>\n",
       "      <td>Rep B</td>\n",
       "      <td>Product F</td>\n",
       "      <td>140</td>\n",
       "    </tr>\n",
       "    <tr>\n",
       "      <th>10</th>\n",
       "      <td>Store F</td>\n",
       "      <td>Rep C</td>\n",
       "      <td>Product E</td>\n",
       "      <td>25</td>\n",
       "    </tr>\n",
       "    <tr>\n",
       "      <th>11</th>\n",
       "      <td>Store F</td>\n",
       "      <td>Rep F</td>\n",
       "      <td>Product A</td>\n",
       "      <td>85</td>\n",
       "    </tr>\n",
       "    <tr>\n",
       "      <th>12</th>\n",
       "      <td>Store G</td>\n",
       "      <td>Rep D</td>\n",
       "      <td>Product B</td>\n",
       "      <td>675</td>\n",
       "    </tr>\n",
       "    <tr>\n",
       "      <th>13</th>\n",
       "      <td>Store G</td>\n",
       "      <td>Rep D</td>\n",
       "      <td>Product E</td>\n",
       "      <td>900</td>\n",
       "    </tr>\n",
       "    <tr>\n",
       "      <th>14</th>\n",
       "      <td>Store G</td>\n",
       "      <td>Rep D</td>\n",
       "      <td>Product I</td>\n",
       "      <td>11</td>\n",
       "    </tr>\n",
       "    <tr>\n",
       "      <th>15</th>\n",
       "      <td>Store H</td>\n",
       "      <td>Rep A</td>\n",
       "      <td>Product B</td>\n",
       "      <td>450</td>\n",
       "    </tr>\n",
       "    <tr>\n",
       "      <th>16</th>\n",
       "      <td>Store H</td>\n",
       "      <td>Rep D</td>\n",
       "      <td>Product H</td>\n",
       "      <td>368</td>\n",
       "    </tr>\n",
       "    <tr>\n",
       "      <th>17</th>\n",
       "      <td>Store H</td>\n",
       "      <td>Rep E</td>\n",
       "      <td>Product G</td>\n",
       "      <td>665</td>\n",
       "    </tr>\n",
       "    <tr>\n",
       "      <th>18</th>\n",
       "      <td>Store J</td>\n",
       "      <td>Rep A</td>\n",
       "      <td>Product F</td>\n",
       "      <td>150</td>\n",
       "    </tr>\n",
       "    <tr>\n",
       "      <th>19</th>\n",
       "      <td>Store J</td>\n",
       "      <td>Rep G</td>\n",
       "      <td>Product A</td>\n",
       "      <td>250</td>\n",
       "    </tr>\n",
       "  </tbody>\n",
       "</table>\n",
       "</div>"
      ],
      "text/plain": [
       "      Store Salesperson    Product  TotalSales\n",
       "0   Store A       Rep F  Product F         170\n",
       "1   Store A       Rep I  Product J         130\n",
       "2   Store B       Rep D  Product F         400\n",
       "3   Store C       Rep B  Product F         280\n",
       "4   Store C       Rep H  Product B         450\n",
       "5   Store C       Rep H  Product J         208\n",
       "6   Store D       Rep D  Product E         375\n",
       "7   Store F       Rep A  Product A          35\n",
       "8   Store F       Rep B  Product D          36\n",
       "9   Store F       Rep B  Product F         140\n",
       "10  Store F       Rep C  Product E          25\n",
       "11  Store F       Rep F  Product A          85\n",
       "12  Store G       Rep D  Product B         675\n",
       "13  Store G       Rep D  Product E         900\n",
       "14  Store G       Rep D  Product I          11\n",
       "15  Store H       Rep A  Product B         450\n",
       "16  Store H       Rep D  Product H         368\n",
       "17  Store H       Rep E  Product G         665\n",
       "18  Store J       Rep A  Product F         150\n",
       "19  Store J       Rep G  Product A         250"
      ]
     },
     "execution_count": 3,
     "metadata": {},
     "output_type": "execute_result"
    }
   ],
   "source": [
    "Sales"
   ]
  },
  {
   "cell_type": "markdown",
   "metadata": {},
   "source": [
    "# To print the Top 5columns;"
   ]
  },
  {
   "cell_type": "code",
   "execution_count": 4,
   "metadata": {},
   "outputs": [
    {
     "data": {
      "text/html": [
       "<div>\n",
       "<style scoped>\n",
       "    .dataframe tbody tr th:only-of-type {\n",
       "        vertical-align: middle;\n",
       "    }\n",
       "\n",
       "    .dataframe tbody tr th {\n",
       "        vertical-align: top;\n",
       "    }\n",
       "\n",
       "    .dataframe thead th {\n",
       "        text-align: right;\n",
       "    }\n",
       "</style>\n",
       "<table border=\"1\" class=\"dataframe\">\n",
       "  <thead>\n",
       "    <tr style=\"text-align: right;\">\n",
       "      <th></th>\n",
       "      <th>Store</th>\n",
       "      <th>Salesperson</th>\n",
       "      <th>Product</th>\n",
       "      <th>TotalSales</th>\n",
       "    </tr>\n",
       "  </thead>\n",
       "  <tbody>\n",
       "    <tr>\n",
       "      <th>0</th>\n",
       "      <td>Store A</td>\n",
       "      <td>Rep F</td>\n",
       "      <td>Product F</td>\n",
       "      <td>170</td>\n",
       "    </tr>\n",
       "    <tr>\n",
       "      <th>1</th>\n",
       "      <td>Store A</td>\n",
       "      <td>Rep I</td>\n",
       "      <td>Product J</td>\n",
       "      <td>130</td>\n",
       "    </tr>\n",
       "    <tr>\n",
       "      <th>2</th>\n",
       "      <td>Store B</td>\n",
       "      <td>Rep D</td>\n",
       "      <td>Product F</td>\n",
       "      <td>400</td>\n",
       "    </tr>\n",
       "    <tr>\n",
       "      <th>3</th>\n",
       "      <td>Store C</td>\n",
       "      <td>Rep B</td>\n",
       "      <td>Product F</td>\n",
       "      <td>280</td>\n",
       "    </tr>\n",
       "    <tr>\n",
       "      <th>4</th>\n",
       "      <td>Store C</td>\n",
       "      <td>Rep H</td>\n",
       "      <td>Product B</td>\n",
       "      <td>450</td>\n",
       "    </tr>\n",
       "  </tbody>\n",
       "</table>\n",
       "</div>"
      ],
      "text/plain": [
       "     Store Salesperson    Product  TotalSales\n",
       "0  Store A       Rep F  Product F         170\n",
       "1  Store A       Rep I  Product J         130\n",
       "2  Store B       Rep D  Product F         400\n",
       "3  Store C       Rep B  Product F         280\n",
       "4  Store C       Rep H  Product B         450"
      ]
     },
     "execution_count": 4,
     "metadata": {},
     "output_type": "execute_result"
    }
   ],
   "source": [
    "Sales.head()"
   ]
  },
  {
   "cell_type": "markdown",
   "metadata": {},
   "source": [
    "# To print the Top 15 columns;"
   ]
  },
  {
   "cell_type": "code",
   "execution_count": 5,
   "metadata": {},
   "outputs": [
    {
     "data": {
      "text/html": [
       "<div>\n",
       "<style scoped>\n",
       "    .dataframe tbody tr th:only-of-type {\n",
       "        vertical-align: middle;\n",
       "    }\n",
       "\n",
       "    .dataframe tbody tr th {\n",
       "        vertical-align: top;\n",
       "    }\n",
       "\n",
       "    .dataframe thead th {\n",
       "        text-align: right;\n",
       "    }\n",
       "</style>\n",
       "<table border=\"1\" class=\"dataframe\">\n",
       "  <thead>\n",
       "    <tr style=\"text-align: right;\">\n",
       "      <th></th>\n",
       "      <th>Store</th>\n",
       "      <th>Salesperson</th>\n",
       "      <th>Product</th>\n",
       "      <th>TotalSales</th>\n",
       "    </tr>\n",
       "  </thead>\n",
       "  <tbody>\n",
       "    <tr>\n",
       "      <th>0</th>\n",
       "      <td>Store A</td>\n",
       "      <td>Rep F</td>\n",
       "      <td>Product F</td>\n",
       "      <td>170</td>\n",
       "    </tr>\n",
       "    <tr>\n",
       "      <th>1</th>\n",
       "      <td>Store A</td>\n",
       "      <td>Rep I</td>\n",
       "      <td>Product J</td>\n",
       "      <td>130</td>\n",
       "    </tr>\n",
       "    <tr>\n",
       "      <th>2</th>\n",
       "      <td>Store B</td>\n",
       "      <td>Rep D</td>\n",
       "      <td>Product F</td>\n",
       "      <td>400</td>\n",
       "    </tr>\n",
       "    <tr>\n",
       "      <th>3</th>\n",
       "      <td>Store C</td>\n",
       "      <td>Rep B</td>\n",
       "      <td>Product F</td>\n",
       "      <td>280</td>\n",
       "    </tr>\n",
       "    <tr>\n",
       "      <th>4</th>\n",
       "      <td>Store C</td>\n",
       "      <td>Rep H</td>\n",
       "      <td>Product B</td>\n",
       "      <td>450</td>\n",
       "    </tr>\n",
       "    <tr>\n",
       "      <th>5</th>\n",
       "      <td>Store C</td>\n",
       "      <td>Rep H</td>\n",
       "      <td>Product J</td>\n",
       "      <td>208</td>\n",
       "    </tr>\n",
       "    <tr>\n",
       "      <th>6</th>\n",
       "      <td>Store D</td>\n",
       "      <td>Rep D</td>\n",
       "      <td>Product E</td>\n",
       "      <td>375</td>\n",
       "    </tr>\n",
       "    <tr>\n",
       "      <th>7</th>\n",
       "      <td>Store F</td>\n",
       "      <td>Rep A</td>\n",
       "      <td>Product A</td>\n",
       "      <td>35</td>\n",
       "    </tr>\n",
       "    <tr>\n",
       "      <th>8</th>\n",
       "      <td>Store F</td>\n",
       "      <td>Rep B</td>\n",
       "      <td>Product D</td>\n",
       "      <td>36</td>\n",
       "    </tr>\n",
       "    <tr>\n",
       "      <th>9</th>\n",
       "      <td>Store F</td>\n",
       "      <td>Rep B</td>\n",
       "      <td>Product F</td>\n",
       "      <td>140</td>\n",
       "    </tr>\n",
       "    <tr>\n",
       "      <th>10</th>\n",
       "      <td>Store F</td>\n",
       "      <td>Rep C</td>\n",
       "      <td>Product E</td>\n",
       "      <td>25</td>\n",
       "    </tr>\n",
       "    <tr>\n",
       "      <th>11</th>\n",
       "      <td>Store F</td>\n",
       "      <td>Rep F</td>\n",
       "      <td>Product A</td>\n",
       "      <td>85</td>\n",
       "    </tr>\n",
       "    <tr>\n",
       "      <th>12</th>\n",
       "      <td>Store G</td>\n",
       "      <td>Rep D</td>\n",
       "      <td>Product B</td>\n",
       "      <td>675</td>\n",
       "    </tr>\n",
       "    <tr>\n",
       "      <th>13</th>\n",
       "      <td>Store G</td>\n",
       "      <td>Rep D</td>\n",
       "      <td>Product E</td>\n",
       "      <td>900</td>\n",
       "    </tr>\n",
       "    <tr>\n",
       "      <th>14</th>\n",
       "      <td>Store G</td>\n",
       "      <td>Rep D</td>\n",
       "      <td>Product I</td>\n",
       "      <td>11</td>\n",
       "    </tr>\n",
       "  </tbody>\n",
       "</table>\n",
       "</div>"
      ],
      "text/plain": [
       "      Store Salesperson    Product  TotalSales\n",
       "0   Store A       Rep F  Product F         170\n",
       "1   Store A       Rep I  Product J         130\n",
       "2   Store B       Rep D  Product F         400\n",
       "3   Store C       Rep B  Product F         280\n",
       "4   Store C       Rep H  Product B         450\n",
       "5   Store C       Rep H  Product J         208\n",
       "6   Store D       Rep D  Product E         375\n",
       "7   Store F       Rep A  Product A          35\n",
       "8   Store F       Rep B  Product D          36\n",
       "9   Store F       Rep B  Product F         140\n",
       "10  Store F       Rep C  Product E          25\n",
       "11  Store F       Rep F  Product A          85\n",
       "12  Store G       Rep D  Product B         675\n",
       "13  Store G       Rep D  Product E         900\n",
       "14  Store G       Rep D  Product I          11"
      ]
     },
     "execution_count": 5,
     "metadata": {},
     "output_type": "execute_result"
    }
   ],
   "source": [
    "Sales.head(15)"
   ]
  },
  {
   "cell_type": "markdown",
   "metadata": {},
   "source": [
    "# To print the bottom 5 columns;"
   ]
  },
  {
   "cell_type": "code",
   "execution_count": 6,
   "metadata": {},
   "outputs": [
    {
     "data": {
      "text/html": [
       "<div>\n",
       "<style scoped>\n",
       "    .dataframe tbody tr th:only-of-type {\n",
       "        vertical-align: middle;\n",
       "    }\n",
       "\n",
       "    .dataframe tbody tr th {\n",
       "        vertical-align: top;\n",
       "    }\n",
       "\n",
       "    .dataframe thead th {\n",
       "        text-align: right;\n",
       "    }\n",
       "</style>\n",
       "<table border=\"1\" class=\"dataframe\">\n",
       "  <thead>\n",
       "    <tr style=\"text-align: right;\">\n",
       "      <th></th>\n",
       "      <th>Store</th>\n",
       "      <th>Salesperson</th>\n",
       "      <th>Product</th>\n",
       "      <th>TotalSales</th>\n",
       "    </tr>\n",
       "  </thead>\n",
       "  <tbody>\n",
       "    <tr>\n",
       "      <th>15</th>\n",
       "      <td>Store H</td>\n",
       "      <td>Rep A</td>\n",
       "      <td>Product B</td>\n",
       "      <td>450</td>\n",
       "    </tr>\n",
       "    <tr>\n",
       "      <th>16</th>\n",
       "      <td>Store H</td>\n",
       "      <td>Rep D</td>\n",
       "      <td>Product H</td>\n",
       "      <td>368</td>\n",
       "    </tr>\n",
       "    <tr>\n",
       "      <th>17</th>\n",
       "      <td>Store H</td>\n",
       "      <td>Rep E</td>\n",
       "      <td>Product G</td>\n",
       "      <td>665</td>\n",
       "    </tr>\n",
       "    <tr>\n",
       "      <th>18</th>\n",
       "      <td>Store J</td>\n",
       "      <td>Rep A</td>\n",
       "      <td>Product F</td>\n",
       "      <td>150</td>\n",
       "    </tr>\n",
       "    <tr>\n",
       "      <th>19</th>\n",
       "      <td>Store J</td>\n",
       "      <td>Rep G</td>\n",
       "      <td>Product A</td>\n",
       "      <td>250</td>\n",
       "    </tr>\n",
       "  </tbody>\n",
       "</table>\n",
       "</div>"
      ],
      "text/plain": [
       "      Store Salesperson    Product  TotalSales\n",
       "15  Store H       Rep A  Product B         450\n",
       "16  Store H       Rep D  Product H         368\n",
       "17  Store H       Rep E  Product G         665\n",
       "18  Store J       Rep A  Product F         150\n",
       "19  Store J       Rep G  Product A         250"
      ]
     },
     "execution_count": 6,
     "metadata": {},
     "output_type": "execute_result"
    }
   ],
   "source": [
    "Sales.tail()"
   ]
  },
  {
   "cell_type": "markdown",
   "metadata": {},
   "source": [
    "# To print the bottom 15 columns;"
   ]
  },
  {
   "cell_type": "code",
   "execution_count": 7,
   "metadata": {},
   "outputs": [
    {
     "data": {
      "text/html": [
       "<div>\n",
       "<style scoped>\n",
       "    .dataframe tbody tr th:only-of-type {\n",
       "        vertical-align: middle;\n",
       "    }\n",
       "\n",
       "    .dataframe tbody tr th {\n",
       "        vertical-align: top;\n",
       "    }\n",
       "\n",
       "    .dataframe thead th {\n",
       "        text-align: right;\n",
       "    }\n",
       "</style>\n",
       "<table border=\"1\" class=\"dataframe\">\n",
       "  <thead>\n",
       "    <tr style=\"text-align: right;\">\n",
       "      <th></th>\n",
       "      <th>Store</th>\n",
       "      <th>Salesperson</th>\n",
       "      <th>Product</th>\n",
       "      <th>TotalSales</th>\n",
       "    </tr>\n",
       "  </thead>\n",
       "  <tbody>\n",
       "    <tr>\n",
       "      <th>5</th>\n",
       "      <td>Store C</td>\n",
       "      <td>Rep H</td>\n",
       "      <td>Product J</td>\n",
       "      <td>208</td>\n",
       "    </tr>\n",
       "    <tr>\n",
       "      <th>6</th>\n",
       "      <td>Store D</td>\n",
       "      <td>Rep D</td>\n",
       "      <td>Product E</td>\n",
       "      <td>375</td>\n",
       "    </tr>\n",
       "    <tr>\n",
       "      <th>7</th>\n",
       "      <td>Store F</td>\n",
       "      <td>Rep A</td>\n",
       "      <td>Product A</td>\n",
       "      <td>35</td>\n",
       "    </tr>\n",
       "    <tr>\n",
       "      <th>8</th>\n",
       "      <td>Store F</td>\n",
       "      <td>Rep B</td>\n",
       "      <td>Product D</td>\n",
       "      <td>36</td>\n",
       "    </tr>\n",
       "    <tr>\n",
       "      <th>9</th>\n",
       "      <td>Store F</td>\n",
       "      <td>Rep B</td>\n",
       "      <td>Product F</td>\n",
       "      <td>140</td>\n",
       "    </tr>\n",
       "    <tr>\n",
       "      <th>10</th>\n",
       "      <td>Store F</td>\n",
       "      <td>Rep C</td>\n",
       "      <td>Product E</td>\n",
       "      <td>25</td>\n",
       "    </tr>\n",
       "    <tr>\n",
       "      <th>11</th>\n",
       "      <td>Store F</td>\n",
       "      <td>Rep F</td>\n",
       "      <td>Product A</td>\n",
       "      <td>85</td>\n",
       "    </tr>\n",
       "    <tr>\n",
       "      <th>12</th>\n",
       "      <td>Store G</td>\n",
       "      <td>Rep D</td>\n",
       "      <td>Product B</td>\n",
       "      <td>675</td>\n",
       "    </tr>\n",
       "    <tr>\n",
       "      <th>13</th>\n",
       "      <td>Store G</td>\n",
       "      <td>Rep D</td>\n",
       "      <td>Product E</td>\n",
       "      <td>900</td>\n",
       "    </tr>\n",
       "    <tr>\n",
       "      <th>14</th>\n",
       "      <td>Store G</td>\n",
       "      <td>Rep D</td>\n",
       "      <td>Product I</td>\n",
       "      <td>11</td>\n",
       "    </tr>\n",
       "    <tr>\n",
       "      <th>15</th>\n",
       "      <td>Store H</td>\n",
       "      <td>Rep A</td>\n",
       "      <td>Product B</td>\n",
       "      <td>450</td>\n",
       "    </tr>\n",
       "    <tr>\n",
       "      <th>16</th>\n",
       "      <td>Store H</td>\n",
       "      <td>Rep D</td>\n",
       "      <td>Product H</td>\n",
       "      <td>368</td>\n",
       "    </tr>\n",
       "    <tr>\n",
       "      <th>17</th>\n",
       "      <td>Store H</td>\n",
       "      <td>Rep E</td>\n",
       "      <td>Product G</td>\n",
       "      <td>665</td>\n",
       "    </tr>\n",
       "    <tr>\n",
       "      <th>18</th>\n",
       "      <td>Store J</td>\n",
       "      <td>Rep A</td>\n",
       "      <td>Product F</td>\n",
       "      <td>150</td>\n",
       "    </tr>\n",
       "    <tr>\n",
       "      <th>19</th>\n",
       "      <td>Store J</td>\n",
       "      <td>Rep G</td>\n",
       "      <td>Product A</td>\n",
       "      <td>250</td>\n",
       "    </tr>\n",
       "  </tbody>\n",
       "</table>\n",
       "</div>"
      ],
      "text/plain": [
       "      Store Salesperson    Product  TotalSales\n",
       "5   Store C       Rep H  Product J         208\n",
       "6   Store D       Rep D  Product E         375\n",
       "7   Store F       Rep A  Product A          35\n",
       "8   Store F       Rep B  Product D          36\n",
       "9   Store F       Rep B  Product F         140\n",
       "10  Store F       Rep C  Product E          25\n",
       "11  Store F       Rep F  Product A          85\n",
       "12  Store G       Rep D  Product B         675\n",
       "13  Store G       Rep D  Product E         900\n",
       "14  Store G       Rep D  Product I          11\n",
       "15  Store H       Rep A  Product B         450\n",
       "16  Store H       Rep D  Product H         368\n",
       "17  Store H       Rep E  Product G         665\n",
       "18  Store J       Rep A  Product F         150\n",
       "19  Store J       Rep G  Product A         250"
      ]
     },
     "execution_count": 7,
     "metadata": {},
     "output_type": "execute_result"
    }
   ],
   "source": [
    "Sales.tail(15)"
   ]
  },
  {
   "cell_type": "markdown",
   "metadata": {},
   "source": [
    "# To Check rows and columns;"
   ]
  },
  {
   "cell_type": "code",
   "execution_count": 8,
   "metadata": {},
   "outputs": [
    {
     "data": {
      "text/plain": [
       "(20, 4)"
      ]
     },
     "execution_count": 8,
     "metadata": {},
     "output_type": "execute_result"
    }
   ],
   "source": [
    "Sales.shape"
   ]
  },
  {
   "cell_type": "markdown",
   "metadata": {},
   "source": [
    "# To check the datatype of attributes;"
   ]
  },
  {
   "cell_type": "code",
   "execution_count": 9,
   "metadata": {},
   "outputs": [
    {
     "data": {
      "text/plain": [
       "Store          object\n",
       "Salesperson    object\n",
       "Product        object\n",
       "TotalSales      int64\n",
       "dtype: object"
      ]
     },
     "execution_count": 9,
     "metadata": {},
     "output_type": "execute_result"
    }
   ],
   "source": [
    "Sales.dtypes"
   ]
  },
  {
   "cell_type": "markdown",
   "metadata": {},
   "source": [
    "# To print number of dimensions;"
   ]
  },
  {
   "cell_type": "code",
   "execution_count": 10,
   "metadata": {},
   "outputs": [
    {
     "data": {
      "text/plain": [
       "2"
      ]
     },
     "execution_count": 10,
     "metadata": {},
     "output_type": "execute_result"
    }
   ],
   "source": [
    "Sales.ndim"
   ]
  },
  {
   "cell_type": "markdown",
   "metadata": {},
   "source": [
    "# To print the index;"
   ]
  },
  {
   "cell_type": "code",
   "execution_count": 11,
   "metadata": {},
   "outputs": [
    {
     "data": {
      "text/plain": [
       "RangeIndex(start=0, stop=20, step=1)"
      ]
     },
     "execution_count": 11,
     "metadata": {},
     "output_type": "execute_result"
    }
   ],
   "source": [
    "Sales.index"
   ]
  },
  {
   "cell_type": "markdown",
   "metadata": {},
   "source": [
    "# To check the size of the data;"
   ]
  },
  {
   "cell_type": "code",
   "execution_count": 12,
   "metadata": {},
   "outputs": [
    {
     "data": {
      "text/plain": [
       "80"
      ]
     },
     "execution_count": 12,
     "metadata": {},
     "output_type": "execute_result"
    }
   ],
   "source": [
    "Sales.size"
   ]
  },
  {
   "cell_type": "markdown",
   "metadata": {},
   "source": [
    "# To Check the whether data type is empty or not;"
   ]
  },
  {
   "cell_type": "code",
   "execution_count": 13,
   "metadata": {},
   "outputs": [
    {
     "data": {
      "text/plain": [
       "False"
      ]
     },
     "execution_count": 13,
     "metadata": {},
     "output_type": "execute_result"
    }
   ],
   "source": [
    "Sales.empty"
   ]
  },
  {
   "cell_type": "markdown",
   "metadata": {},
   "source": [
    "# Print the column names;"
   ]
  },
  {
   "cell_type": "code",
   "execution_count": 14,
   "metadata": {},
   "outputs": [
    {
     "data": {
      "text/plain": [
       "Index(['Store', 'Salesperson', 'Product', 'TotalSales'], dtype='object')"
      ]
     },
     "execution_count": 14,
     "metadata": {},
     "output_type": "execute_result"
    }
   ],
   "source": [
    "Sales.columns"
   ]
  },
  {
   "cell_type": "markdown",
   "metadata": {},
   "source": [
    "# To print the information of dataset;"
   ]
  },
  {
   "cell_type": "code",
   "execution_count": 15,
   "metadata": {},
   "outputs": [
    {
     "name": "stdout",
     "output_type": "stream",
     "text": [
      "<class 'pandas.core.frame.DataFrame'>\n",
      "RangeIndex: 20 entries, 0 to 19\n",
      "Data columns (total 4 columns):\n",
      " #   Column       Non-Null Count  Dtype \n",
      "---  ------       --------------  ----- \n",
      " 0   Store        20 non-null     object\n",
      " 1   Salesperson  20 non-null     object\n",
      " 2   Product      20 non-null     object\n",
      " 3   TotalSales   20 non-null     int64 \n",
      "dtypes: int64(1), object(3)\n",
      "memory usage: 768.0+ bytes\n"
     ]
    }
   ],
   "source": [
    "Sales.info()"
   ]
  },
  {
   "cell_type": "markdown",
   "metadata": {},
   "source": [
    "# Print the statistical information;"
   ]
  },
  {
   "cell_type": "code",
   "execution_count": 16,
   "metadata": {},
   "outputs": [
    {
     "data": {
      "text/html": [
       "<div>\n",
       "<style scoped>\n",
       "    .dataframe tbody tr th:only-of-type {\n",
       "        vertical-align: middle;\n",
       "    }\n",
       "\n",
       "    .dataframe tbody tr th {\n",
       "        vertical-align: top;\n",
       "    }\n",
       "\n",
       "    .dataframe thead th {\n",
       "        text-align: right;\n",
       "    }\n",
       "</style>\n",
       "<table border=\"1\" class=\"dataframe\">\n",
       "  <thead>\n",
       "    <tr style=\"text-align: right;\">\n",
       "      <th></th>\n",
       "      <th>TotalSales</th>\n",
       "    </tr>\n",
       "  </thead>\n",
       "  <tbody>\n",
       "    <tr>\n",
       "      <th>count</th>\n",
       "      <td>20.00000</td>\n",
       "    </tr>\n",
       "    <tr>\n",
       "      <th>mean</th>\n",
       "      <td>290.15000</td>\n",
       "    </tr>\n",
       "    <tr>\n",
       "      <th>std</th>\n",
       "      <td>245.77638</td>\n",
       "    </tr>\n",
       "    <tr>\n",
       "      <th>min</th>\n",
       "      <td>11.00000</td>\n",
       "    </tr>\n",
       "    <tr>\n",
       "      <th>25%</th>\n",
       "      <td>118.75000</td>\n",
       "    </tr>\n",
       "    <tr>\n",
       "      <th>50%</th>\n",
       "      <td>229.00000</td>\n",
       "    </tr>\n",
       "    <tr>\n",
       "      <th>75%</th>\n",
       "      <td>412.50000</td>\n",
       "    </tr>\n",
       "    <tr>\n",
       "      <th>max</th>\n",
       "      <td>900.00000</td>\n",
       "    </tr>\n",
       "  </tbody>\n",
       "</table>\n",
       "</div>"
      ],
      "text/plain": [
       "       TotalSales\n",
       "count    20.00000\n",
       "mean    290.15000\n",
       "std     245.77638\n",
       "min      11.00000\n",
       "25%     118.75000\n",
       "50%     229.00000\n",
       "75%     412.50000\n",
       "max     900.00000"
      ]
     },
     "execution_count": 16,
     "metadata": {},
     "output_type": "execute_result"
    }
   ],
   "source": [
    "Sales.describe()"
   ]
  },
  {
   "cell_type": "markdown",
   "metadata": {},
   "source": [
    "# Print all statistical informations;"
   ]
  },
  {
   "cell_type": "code",
   "execution_count": 17,
   "metadata": {},
   "outputs": [
    {
     "data": {
      "text/html": [
       "<div>\n",
       "<style scoped>\n",
       "    .dataframe tbody tr th:only-of-type {\n",
       "        vertical-align: middle;\n",
       "    }\n",
       "\n",
       "    .dataframe tbody tr th {\n",
       "        vertical-align: top;\n",
       "    }\n",
       "\n",
       "    .dataframe thead th {\n",
       "        text-align: right;\n",
       "    }\n",
       "</style>\n",
       "<table border=\"1\" class=\"dataframe\">\n",
       "  <thead>\n",
       "    <tr style=\"text-align: right;\">\n",
       "      <th></th>\n",
       "      <th>Store</th>\n",
       "      <th>Salesperson</th>\n",
       "      <th>Product</th>\n",
       "      <th>TotalSales</th>\n",
       "    </tr>\n",
       "  </thead>\n",
       "  <tbody>\n",
       "    <tr>\n",
       "      <th>count</th>\n",
       "      <td>20</td>\n",
       "      <td>20</td>\n",
       "      <td>20</td>\n",
       "      <td>20.00000</td>\n",
       "    </tr>\n",
       "    <tr>\n",
       "      <th>unique</th>\n",
       "      <td>8</td>\n",
       "      <td>9</td>\n",
       "      <td>9</td>\n",
       "      <td>NaN</td>\n",
       "    </tr>\n",
       "    <tr>\n",
       "      <th>top</th>\n",
       "      <td>Store F</td>\n",
       "      <td>Rep D</td>\n",
       "      <td>Product F</td>\n",
       "      <td>NaN</td>\n",
       "    </tr>\n",
       "    <tr>\n",
       "      <th>freq</th>\n",
       "      <td>5</td>\n",
       "      <td>6</td>\n",
       "      <td>5</td>\n",
       "      <td>NaN</td>\n",
       "    </tr>\n",
       "    <tr>\n",
       "      <th>mean</th>\n",
       "      <td>NaN</td>\n",
       "      <td>NaN</td>\n",
       "      <td>NaN</td>\n",
       "      <td>290.15000</td>\n",
       "    </tr>\n",
       "    <tr>\n",
       "      <th>std</th>\n",
       "      <td>NaN</td>\n",
       "      <td>NaN</td>\n",
       "      <td>NaN</td>\n",
       "      <td>245.77638</td>\n",
       "    </tr>\n",
       "    <tr>\n",
       "      <th>min</th>\n",
       "      <td>NaN</td>\n",
       "      <td>NaN</td>\n",
       "      <td>NaN</td>\n",
       "      <td>11.00000</td>\n",
       "    </tr>\n",
       "    <tr>\n",
       "      <th>25%</th>\n",
       "      <td>NaN</td>\n",
       "      <td>NaN</td>\n",
       "      <td>NaN</td>\n",
       "      <td>118.75000</td>\n",
       "    </tr>\n",
       "    <tr>\n",
       "      <th>50%</th>\n",
       "      <td>NaN</td>\n",
       "      <td>NaN</td>\n",
       "      <td>NaN</td>\n",
       "      <td>229.00000</td>\n",
       "    </tr>\n",
       "    <tr>\n",
       "      <th>75%</th>\n",
       "      <td>NaN</td>\n",
       "      <td>NaN</td>\n",
       "      <td>NaN</td>\n",
       "      <td>412.50000</td>\n",
       "    </tr>\n",
       "    <tr>\n",
       "      <th>max</th>\n",
       "      <td>NaN</td>\n",
       "      <td>NaN</td>\n",
       "      <td>NaN</td>\n",
       "      <td>900.00000</td>\n",
       "    </tr>\n",
       "  </tbody>\n",
       "</table>\n",
       "</div>"
      ],
      "text/plain": [
       "          Store Salesperson    Product  TotalSales\n",
       "count        20          20         20    20.00000\n",
       "unique        8           9          9         NaN\n",
       "top     Store F       Rep D  Product F         NaN\n",
       "freq          5           6          5         NaN\n",
       "mean        NaN         NaN        NaN   290.15000\n",
       "std         NaN         NaN        NaN   245.77638\n",
       "min         NaN         NaN        NaN    11.00000\n",
       "25%         NaN         NaN        NaN   118.75000\n",
       "50%         NaN         NaN        NaN   229.00000\n",
       "75%         NaN         NaN        NaN   412.50000\n",
       "max         NaN         NaN        NaN   900.00000"
      ]
     },
     "execution_count": 17,
     "metadata": {},
     "output_type": "execute_result"
    }
   ],
   "source": [
    "Sales.describe(include='all')"
   ]
  },
  {
   "cell_type": "markdown",
   "metadata": {},
   "source": [
    "# To check there any missing value;"
   ]
  },
  {
   "cell_type": "code",
   "execution_count": 18,
   "metadata": {},
   "outputs": [
    {
     "data": {
      "text/html": [
       "<div>\n",
       "<style scoped>\n",
       "    .dataframe tbody tr th:only-of-type {\n",
       "        vertical-align: middle;\n",
       "    }\n",
       "\n",
       "    .dataframe tbody tr th {\n",
       "        vertical-align: top;\n",
       "    }\n",
       "\n",
       "    .dataframe thead th {\n",
       "        text-align: right;\n",
       "    }\n",
       "</style>\n",
       "<table border=\"1\" class=\"dataframe\">\n",
       "  <thead>\n",
       "    <tr style=\"text-align: right;\">\n",
       "      <th></th>\n",
       "      <th>Store</th>\n",
       "      <th>Salesperson</th>\n",
       "      <th>Product</th>\n",
       "      <th>TotalSales</th>\n",
       "    </tr>\n",
       "  </thead>\n",
       "  <tbody>\n",
       "    <tr>\n",
       "      <th>0</th>\n",
       "      <td>False</td>\n",
       "      <td>False</td>\n",
       "      <td>False</td>\n",
       "      <td>False</td>\n",
       "    </tr>\n",
       "    <tr>\n",
       "      <th>1</th>\n",
       "      <td>False</td>\n",
       "      <td>False</td>\n",
       "      <td>False</td>\n",
       "      <td>False</td>\n",
       "    </tr>\n",
       "    <tr>\n",
       "      <th>2</th>\n",
       "      <td>False</td>\n",
       "      <td>False</td>\n",
       "      <td>False</td>\n",
       "      <td>False</td>\n",
       "    </tr>\n",
       "    <tr>\n",
       "      <th>3</th>\n",
       "      <td>False</td>\n",
       "      <td>False</td>\n",
       "      <td>False</td>\n",
       "      <td>False</td>\n",
       "    </tr>\n",
       "    <tr>\n",
       "      <th>4</th>\n",
       "      <td>False</td>\n",
       "      <td>False</td>\n",
       "      <td>False</td>\n",
       "      <td>False</td>\n",
       "    </tr>\n",
       "    <tr>\n",
       "      <th>5</th>\n",
       "      <td>False</td>\n",
       "      <td>False</td>\n",
       "      <td>False</td>\n",
       "      <td>False</td>\n",
       "    </tr>\n",
       "    <tr>\n",
       "      <th>6</th>\n",
       "      <td>False</td>\n",
       "      <td>False</td>\n",
       "      <td>False</td>\n",
       "      <td>False</td>\n",
       "    </tr>\n",
       "    <tr>\n",
       "      <th>7</th>\n",
       "      <td>False</td>\n",
       "      <td>False</td>\n",
       "      <td>False</td>\n",
       "      <td>False</td>\n",
       "    </tr>\n",
       "    <tr>\n",
       "      <th>8</th>\n",
       "      <td>False</td>\n",
       "      <td>False</td>\n",
       "      <td>False</td>\n",
       "      <td>False</td>\n",
       "    </tr>\n",
       "    <tr>\n",
       "      <th>9</th>\n",
       "      <td>False</td>\n",
       "      <td>False</td>\n",
       "      <td>False</td>\n",
       "      <td>False</td>\n",
       "    </tr>\n",
       "    <tr>\n",
       "      <th>10</th>\n",
       "      <td>False</td>\n",
       "      <td>False</td>\n",
       "      <td>False</td>\n",
       "      <td>False</td>\n",
       "    </tr>\n",
       "    <tr>\n",
       "      <th>11</th>\n",
       "      <td>False</td>\n",
       "      <td>False</td>\n",
       "      <td>False</td>\n",
       "      <td>False</td>\n",
       "    </tr>\n",
       "    <tr>\n",
       "      <th>12</th>\n",
       "      <td>False</td>\n",
       "      <td>False</td>\n",
       "      <td>False</td>\n",
       "      <td>False</td>\n",
       "    </tr>\n",
       "    <tr>\n",
       "      <th>13</th>\n",
       "      <td>False</td>\n",
       "      <td>False</td>\n",
       "      <td>False</td>\n",
       "      <td>False</td>\n",
       "    </tr>\n",
       "    <tr>\n",
       "      <th>14</th>\n",
       "      <td>False</td>\n",
       "      <td>False</td>\n",
       "      <td>False</td>\n",
       "      <td>False</td>\n",
       "    </tr>\n",
       "    <tr>\n",
       "      <th>15</th>\n",
       "      <td>False</td>\n",
       "      <td>False</td>\n",
       "      <td>False</td>\n",
       "      <td>False</td>\n",
       "    </tr>\n",
       "    <tr>\n",
       "      <th>16</th>\n",
       "      <td>False</td>\n",
       "      <td>False</td>\n",
       "      <td>False</td>\n",
       "      <td>False</td>\n",
       "    </tr>\n",
       "    <tr>\n",
       "      <th>17</th>\n",
       "      <td>False</td>\n",
       "      <td>False</td>\n",
       "      <td>False</td>\n",
       "      <td>False</td>\n",
       "    </tr>\n",
       "    <tr>\n",
       "      <th>18</th>\n",
       "      <td>False</td>\n",
       "      <td>False</td>\n",
       "      <td>False</td>\n",
       "      <td>False</td>\n",
       "    </tr>\n",
       "    <tr>\n",
       "      <th>19</th>\n",
       "      <td>False</td>\n",
       "      <td>False</td>\n",
       "      <td>False</td>\n",
       "      <td>False</td>\n",
       "    </tr>\n",
       "  </tbody>\n",
       "</table>\n",
       "</div>"
      ],
      "text/plain": [
       "    Store  Salesperson  Product  TotalSales\n",
       "0   False        False    False       False\n",
       "1   False        False    False       False\n",
       "2   False        False    False       False\n",
       "3   False        False    False       False\n",
       "4   False        False    False       False\n",
       "5   False        False    False       False\n",
       "6   False        False    False       False\n",
       "7   False        False    False       False\n",
       "8   False        False    False       False\n",
       "9   False        False    False       False\n",
       "10  False        False    False       False\n",
       "11  False        False    False       False\n",
       "12  False        False    False       False\n",
       "13  False        False    False       False\n",
       "14  False        False    False       False\n",
       "15  False        False    False       False\n",
       "16  False        False    False       False\n",
       "17  False        False    False       False\n",
       "18  False        False    False       False\n",
       "19  False        False    False       False"
      ]
     },
     "execution_count": 18,
     "metadata": {},
     "output_type": "execute_result"
    }
   ],
   "source": [
    "Sales.isna()"
   ]
  },
  {
   "cell_type": "markdown",
   "metadata": {},
   "source": [
    "#                            (or)"
   ]
  },
  {
   "cell_type": "code",
   "execution_count": 19,
   "metadata": {},
   "outputs": [
    {
     "data": {
      "text/html": [
       "<div>\n",
       "<style scoped>\n",
       "    .dataframe tbody tr th:only-of-type {\n",
       "        vertical-align: middle;\n",
       "    }\n",
       "\n",
       "    .dataframe tbody tr th {\n",
       "        vertical-align: top;\n",
       "    }\n",
       "\n",
       "    .dataframe thead th {\n",
       "        text-align: right;\n",
       "    }\n",
       "</style>\n",
       "<table border=\"1\" class=\"dataframe\">\n",
       "  <thead>\n",
       "    <tr style=\"text-align: right;\">\n",
       "      <th></th>\n",
       "      <th>Store</th>\n",
       "      <th>Salesperson</th>\n",
       "      <th>Product</th>\n",
       "      <th>TotalSales</th>\n",
       "    </tr>\n",
       "  </thead>\n",
       "  <tbody>\n",
       "    <tr>\n",
       "      <th>0</th>\n",
       "      <td>False</td>\n",
       "      <td>False</td>\n",
       "      <td>False</td>\n",
       "      <td>False</td>\n",
       "    </tr>\n",
       "    <tr>\n",
       "      <th>1</th>\n",
       "      <td>False</td>\n",
       "      <td>False</td>\n",
       "      <td>False</td>\n",
       "      <td>False</td>\n",
       "    </tr>\n",
       "    <tr>\n",
       "      <th>2</th>\n",
       "      <td>False</td>\n",
       "      <td>False</td>\n",
       "      <td>False</td>\n",
       "      <td>False</td>\n",
       "    </tr>\n",
       "    <tr>\n",
       "      <th>3</th>\n",
       "      <td>False</td>\n",
       "      <td>False</td>\n",
       "      <td>False</td>\n",
       "      <td>False</td>\n",
       "    </tr>\n",
       "    <tr>\n",
       "      <th>4</th>\n",
       "      <td>False</td>\n",
       "      <td>False</td>\n",
       "      <td>False</td>\n",
       "      <td>False</td>\n",
       "    </tr>\n",
       "    <tr>\n",
       "      <th>5</th>\n",
       "      <td>False</td>\n",
       "      <td>False</td>\n",
       "      <td>False</td>\n",
       "      <td>False</td>\n",
       "    </tr>\n",
       "    <tr>\n",
       "      <th>6</th>\n",
       "      <td>False</td>\n",
       "      <td>False</td>\n",
       "      <td>False</td>\n",
       "      <td>False</td>\n",
       "    </tr>\n",
       "    <tr>\n",
       "      <th>7</th>\n",
       "      <td>False</td>\n",
       "      <td>False</td>\n",
       "      <td>False</td>\n",
       "      <td>False</td>\n",
       "    </tr>\n",
       "    <tr>\n",
       "      <th>8</th>\n",
       "      <td>False</td>\n",
       "      <td>False</td>\n",
       "      <td>False</td>\n",
       "      <td>False</td>\n",
       "    </tr>\n",
       "    <tr>\n",
       "      <th>9</th>\n",
       "      <td>False</td>\n",
       "      <td>False</td>\n",
       "      <td>False</td>\n",
       "      <td>False</td>\n",
       "    </tr>\n",
       "    <tr>\n",
       "      <th>10</th>\n",
       "      <td>False</td>\n",
       "      <td>False</td>\n",
       "      <td>False</td>\n",
       "      <td>False</td>\n",
       "    </tr>\n",
       "    <tr>\n",
       "      <th>11</th>\n",
       "      <td>False</td>\n",
       "      <td>False</td>\n",
       "      <td>False</td>\n",
       "      <td>False</td>\n",
       "    </tr>\n",
       "    <tr>\n",
       "      <th>12</th>\n",
       "      <td>False</td>\n",
       "      <td>False</td>\n",
       "      <td>False</td>\n",
       "      <td>False</td>\n",
       "    </tr>\n",
       "    <tr>\n",
       "      <th>13</th>\n",
       "      <td>False</td>\n",
       "      <td>False</td>\n",
       "      <td>False</td>\n",
       "      <td>False</td>\n",
       "    </tr>\n",
       "    <tr>\n",
       "      <th>14</th>\n",
       "      <td>False</td>\n",
       "      <td>False</td>\n",
       "      <td>False</td>\n",
       "      <td>False</td>\n",
       "    </tr>\n",
       "    <tr>\n",
       "      <th>15</th>\n",
       "      <td>False</td>\n",
       "      <td>False</td>\n",
       "      <td>False</td>\n",
       "      <td>False</td>\n",
       "    </tr>\n",
       "    <tr>\n",
       "      <th>16</th>\n",
       "      <td>False</td>\n",
       "      <td>False</td>\n",
       "      <td>False</td>\n",
       "      <td>False</td>\n",
       "    </tr>\n",
       "    <tr>\n",
       "      <th>17</th>\n",
       "      <td>False</td>\n",
       "      <td>False</td>\n",
       "      <td>False</td>\n",
       "      <td>False</td>\n",
       "    </tr>\n",
       "    <tr>\n",
       "      <th>18</th>\n",
       "      <td>False</td>\n",
       "      <td>False</td>\n",
       "      <td>False</td>\n",
       "      <td>False</td>\n",
       "    </tr>\n",
       "    <tr>\n",
       "      <th>19</th>\n",
       "      <td>False</td>\n",
       "      <td>False</td>\n",
       "      <td>False</td>\n",
       "      <td>False</td>\n",
       "    </tr>\n",
       "  </tbody>\n",
       "</table>\n",
       "</div>"
      ],
      "text/plain": [
       "    Store  Salesperson  Product  TotalSales\n",
       "0   False        False    False       False\n",
       "1   False        False    False       False\n",
       "2   False        False    False       False\n",
       "3   False        False    False       False\n",
       "4   False        False    False       False\n",
       "5   False        False    False       False\n",
       "6   False        False    False       False\n",
       "7   False        False    False       False\n",
       "8   False        False    False       False\n",
       "9   False        False    False       False\n",
       "10  False        False    False       False\n",
       "11  False        False    False       False\n",
       "12  False        False    False       False\n",
       "13  False        False    False       False\n",
       "14  False        False    False       False\n",
       "15  False        False    False       False\n",
       "16  False        False    False       False\n",
       "17  False        False    False       False\n",
       "18  False        False    False       False\n",
       "19  False        False    False       False"
      ]
     },
     "execution_count": 19,
     "metadata": {},
     "output_type": "execute_result"
    }
   ],
   "source": [
    "Sales.isnull()"
   ]
  },
  {
   "cell_type": "markdown",
   "metadata": {},
   "source": [
    "# Sum of Missing values;"
   ]
  },
  {
   "cell_type": "code",
   "execution_count": 20,
   "metadata": {},
   "outputs": [
    {
     "data": {
      "text/plain": [
       "Store          0\n",
       "Salesperson    0\n",
       "Product        0\n",
       "TotalSales     0\n",
       "dtype: int64"
      ]
     },
     "execution_count": 20,
     "metadata": {},
     "output_type": "execute_result"
    }
   ],
   "source": [
    "Sales.isna().sum()"
   ]
  },
  {
   "cell_type": "code",
   "execution_count": 21,
   "metadata": {},
   "outputs": [
    {
     "data": {
      "text/plain": [
       "Store          0\n",
       "Salesperson    0\n",
       "Product        0\n",
       "TotalSales     0\n",
       "dtype: int64"
      ]
     },
     "execution_count": 21,
     "metadata": {},
     "output_type": "execute_result"
    }
   ],
   "source": [
    "Sales.isnull().sum()"
   ]
  },
  {
   "cell_type": "markdown",
   "metadata": {},
   "source": [
    "# To check the duplicative values;"
   ]
  },
  {
   "cell_type": "code",
   "execution_count": 22,
   "metadata": {},
   "outputs": [
    {
     "data": {
      "text/plain": [
       "0     False\n",
       "1     False\n",
       "2     False\n",
       "3     False\n",
       "4     False\n",
       "5     False\n",
       "6     False\n",
       "7     False\n",
       "8     False\n",
       "9     False\n",
       "10    False\n",
       "11    False\n",
       "12    False\n",
       "13    False\n",
       "14    False\n",
       "15    False\n",
       "16    False\n",
       "17    False\n",
       "18    False\n",
       "19    False\n",
       "dtype: bool"
      ]
     },
     "execution_count": 22,
     "metadata": {},
     "output_type": "execute_result"
    }
   ],
   "source": [
    "Sales.duplicated()"
   ]
  },
  {
   "cell_type": "markdown",
   "metadata": {},
   "source": [
    "# Sum of duplcated values;"
   ]
  },
  {
   "cell_type": "code",
   "execution_count": 23,
   "metadata": {},
   "outputs": [
    {
     "data": {
      "text/plain": [
       "0"
      ]
     },
     "execution_count": 23,
     "metadata": {},
     "output_type": "execute_result"
    }
   ],
   "source": [
    "Sales.duplicated().sum()"
   ]
  },
  {
   "cell_type": "markdown",
   "metadata": {},
   "source": [
    "# Number of unique values in dataset;"
   ]
  },
  {
   "cell_type": "code",
   "execution_count": 24,
   "metadata": {},
   "outputs": [
    {
     "data": {
      "text/plain": [
       "Store           8\n",
       "Salesperson     9\n",
       "Product         9\n",
       "TotalSales     19\n",
       "dtype: int64"
      ]
     },
     "execution_count": 24,
     "metadata": {},
     "output_type": "execute_result"
    }
   ],
   "source": [
    "Sales.nunique()"
   ]
  },
  {
   "cell_type": "markdown",
   "metadata": {},
   "source": [
    "# Print unique Store in dataset;"
   ]
  },
  {
   "cell_type": "code",
   "execution_count": 25,
   "metadata": {},
   "outputs": [
    {
     "data": {
      "text/plain": [
       "array(['Store A', 'Store B', 'Store C', 'Store D', 'Store F', 'Store G',\n",
       "       'Store H', 'Store J'], dtype=object)"
      ]
     },
     "execution_count": 25,
     "metadata": {},
     "output_type": "execute_result"
    }
   ],
   "source": [
    "Sales.Store.unique()"
   ]
  },
  {
   "cell_type": "markdown",
   "metadata": {},
   "source": [
    "# Print unique Salesperson in dataset;"
   ]
  },
  {
   "cell_type": "code",
   "execution_count": 26,
   "metadata": {},
   "outputs": [
    {
     "data": {
      "text/plain": [
       "array(['Rep F', 'Rep I', 'Rep D', 'Rep B', 'Rep H', 'Rep A', 'Rep C',\n",
       "       'Rep E', 'Rep G'], dtype=object)"
      ]
     },
     "execution_count": 26,
     "metadata": {},
     "output_type": "execute_result"
    }
   ],
   "source": [
    "Sales.Salesperson.unique()"
   ]
  },
  {
   "cell_type": "markdown",
   "metadata": {},
   "source": [
    "# Print unique Product in dataset;"
   ]
  },
  {
   "cell_type": "code",
   "execution_count": 27,
   "metadata": {},
   "outputs": [
    {
     "data": {
      "text/plain": [
       "array(['Product F', 'Product J', 'Product B', 'Product E', 'Product A',\n",
       "       'Product D', 'Product I', 'Product H', 'Product G'], dtype=object)"
      ]
     },
     "execution_count": 27,
     "metadata": {},
     "output_type": "execute_result"
    }
   ],
   "source": [
    "Sales.Product.unique()"
   ]
  },
  {
   "cell_type": "markdown",
   "metadata": {},
   "source": [
    "# Print unique TotalSales in dataset;"
   ]
  },
  {
   "cell_type": "code",
   "execution_count": 28,
   "metadata": {},
   "outputs": [
    {
     "data": {
      "text/plain": [
       "array([170, 130, 400, 280, 450, 208, 375,  35,  36, 140,  25,  85, 675,\n",
       "       900,  11, 368, 665, 150, 250], dtype=int64)"
      ]
     },
     "execution_count": 28,
     "metadata": {},
     "output_type": "execute_result"
    }
   ],
   "source": [
    "Sales.TotalSales.unique()"
   ]
  },
  {
   "cell_type": "markdown",
   "metadata": {},
   "source": [
    "# Count the Each Store;"
   ]
  },
  {
   "cell_type": "code",
   "execution_count": 29,
   "metadata": {},
   "outputs": [
    {
     "data": {
      "text/plain": [
       "Store F    5\n",
       "Store G    3\n",
       "Store C    3\n",
       "Store H    3\n",
       "Store J    2\n",
       "Store A    2\n",
       "Store B    1\n",
       "Store D    1\n",
       "Name: Store, dtype: int64"
      ]
     },
     "execution_count": 29,
     "metadata": {},
     "output_type": "execute_result"
    }
   ],
   "source": [
    "Sales.Store.value_counts()"
   ]
  },
  {
   "cell_type": "markdown",
   "metadata": {},
   "source": [
    "# Count the Each  Salespersons;"
   ]
  },
  {
   "cell_type": "code",
   "execution_count": 30,
   "metadata": {},
   "outputs": [
    {
     "data": {
      "text/plain": [
       "Rep D    6\n",
       "Rep A    3\n",
       "Rep B    3\n",
       "Rep H    2\n",
       "Rep F    2\n",
       "Rep E    1\n",
       "Rep C    1\n",
       "Rep G    1\n",
       "Rep I    1\n",
       "Name: Salesperson, dtype: int64"
      ]
     },
     "execution_count": 30,
     "metadata": {},
     "output_type": "execute_result"
    }
   ],
   "source": [
    "Sales.Salesperson.value_counts()"
   ]
  },
  {
   "cell_type": "markdown",
   "metadata": {},
   "source": [
    "# Count the Each Product;"
   ]
  },
  {
   "cell_type": "code",
   "execution_count": 31,
   "metadata": {},
   "outputs": [
    {
     "data": {
      "text/plain": [
       "Product F    5\n",
       "Product B    3\n",
       "Product E    3\n",
       "Product A    3\n",
       "Product J    2\n",
       "Product H    1\n",
       "Product G    1\n",
       "Product D    1\n",
       "Product I    1\n",
       "Name: Product, dtype: int64"
      ]
     },
     "execution_count": 31,
     "metadata": {},
     "output_type": "execute_result"
    }
   ],
   "source": [
    "Sales.Product.value_counts()"
   ]
  },
  {
   "cell_type": "markdown",
   "metadata": {},
   "source": [
    "# Count the Each TotalSales;"
   ]
  },
  {
   "cell_type": "code",
   "execution_count": 32,
   "metadata": {},
   "outputs": [
    {
     "data": {
      "text/plain": [
       "450    2\n",
       "368    1\n",
       "400    1\n",
       "35     1\n",
       "36     1\n",
       "208    1\n",
       "900    1\n",
       "170    1\n",
       "140    1\n",
       "665    1\n",
       "675    1\n",
       "85     1\n",
       "11     1\n",
       "375    1\n",
       "280    1\n",
       "25     1\n",
       "250    1\n",
       "150    1\n",
       "130    1\n",
       "Name: TotalSales, dtype: int64"
      ]
     },
     "execution_count": 32,
     "metadata": {},
     "output_type": "execute_result"
    }
   ],
   "source": [
    "Sales.TotalSales.value_counts()"
   ]
  },
  {
   "cell_type": "markdown",
   "metadata": {},
   "source": [
    "# To Show the Stores in Descendng Order;"
   ]
  },
  {
   "cell_type": "code",
   "execution_count": 33,
   "metadata": {},
   "outputs": [
    {
     "data": {
      "text/html": [
       "<div>\n",
       "<style scoped>\n",
       "    .dataframe tbody tr th:only-of-type {\n",
       "        vertical-align: middle;\n",
       "    }\n",
       "\n",
       "    .dataframe tbody tr th {\n",
       "        vertical-align: top;\n",
       "    }\n",
       "\n",
       "    .dataframe thead th {\n",
       "        text-align: right;\n",
       "    }\n",
       "</style>\n",
       "<table border=\"1\" class=\"dataframe\">\n",
       "  <thead>\n",
       "    <tr style=\"text-align: right;\">\n",
       "      <th></th>\n",
       "      <th>Store</th>\n",
       "      <th>Salesperson</th>\n",
       "      <th>Product</th>\n",
       "      <th>TotalSales</th>\n",
       "    </tr>\n",
       "  </thead>\n",
       "  <tbody>\n",
       "    <tr>\n",
       "      <th>19</th>\n",
       "      <td>Store J</td>\n",
       "      <td>Rep G</td>\n",
       "      <td>Product A</td>\n",
       "      <td>250</td>\n",
       "    </tr>\n",
       "    <tr>\n",
       "      <th>18</th>\n",
       "      <td>Store J</td>\n",
       "      <td>Rep A</td>\n",
       "      <td>Product F</td>\n",
       "      <td>150</td>\n",
       "    </tr>\n",
       "    <tr>\n",
       "      <th>17</th>\n",
       "      <td>Store H</td>\n",
       "      <td>Rep E</td>\n",
       "      <td>Product G</td>\n",
       "      <td>665</td>\n",
       "    </tr>\n",
       "    <tr>\n",
       "      <th>16</th>\n",
       "      <td>Store H</td>\n",
       "      <td>Rep D</td>\n",
       "      <td>Product H</td>\n",
       "      <td>368</td>\n",
       "    </tr>\n",
       "    <tr>\n",
       "      <th>15</th>\n",
       "      <td>Store H</td>\n",
       "      <td>Rep A</td>\n",
       "      <td>Product B</td>\n",
       "      <td>450</td>\n",
       "    </tr>\n",
       "    <tr>\n",
       "      <th>14</th>\n",
       "      <td>Store G</td>\n",
       "      <td>Rep D</td>\n",
       "      <td>Product I</td>\n",
       "      <td>11</td>\n",
       "    </tr>\n",
       "    <tr>\n",
       "      <th>13</th>\n",
       "      <td>Store G</td>\n",
       "      <td>Rep D</td>\n",
       "      <td>Product E</td>\n",
       "      <td>900</td>\n",
       "    </tr>\n",
       "    <tr>\n",
       "      <th>12</th>\n",
       "      <td>Store G</td>\n",
       "      <td>Rep D</td>\n",
       "      <td>Product B</td>\n",
       "      <td>675</td>\n",
       "    </tr>\n",
       "    <tr>\n",
       "      <th>11</th>\n",
       "      <td>Store F</td>\n",
       "      <td>Rep F</td>\n",
       "      <td>Product A</td>\n",
       "      <td>85</td>\n",
       "    </tr>\n",
       "    <tr>\n",
       "      <th>10</th>\n",
       "      <td>Store F</td>\n",
       "      <td>Rep C</td>\n",
       "      <td>Product E</td>\n",
       "      <td>25</td>\n",
       "    </tr>\n",
       "    <tr>\n",
       "      <th>9</th>\n",
       "      <td>Store F</td>\n",
       "      <td>Rep B</td>\n",
       "      <td>Product F</td>\n",
       "      <td>140</td>\n",
       "    </tr>\n",
       "    <tr>\n",
       "      <th>8</th>\n",
       "      <td>Store F</td>\n",
       "      <td>Rep B</td>\n",
       "      <td>Product D</td>\n",
       "      <td>36</td>\n",
       "    </tr>\n",
       "    <tr>\n",
       "      <th>7</th>\n",
       "      <td>Store F</td>\n",
       "      <td>Rep A</td>\n",
       "      <td>Product A</td>\n",
       "      <td>35</td>\n",
       "    </tr>\n",
       "    <tr>\n",
       "      <th>6</th>\n",
       "      <td>Store D</td>\n",
       "      <td>Rep D</td>\n",
       "      <td>Product E</td>\n",
       "      <td>375</td>\n",
       "    </tr>\n",
       "    <tr>\n",
       "      <th>5</th>\n",
       "      <td>Store C</td>\n",
       "      <td>Rep H</td>\n",
       "      <td>Product J</td>\n",
       "      <td>208</td>\n",
       "    </tr>\n",
       "    <tr>\n",
       "      <th>4</th>\n",
       "      <td>Store C</td>\n",
       "      <td>Rep H</td>\n",
       "      <td>Product B</td>\n",
       "      <td>450</td>\n",
       "    </tr>\n",
       "    <tr>\n",
       "      <th>3</th>\n",
       "      <td>Store C</td>\n",
       "      <td>Rep B</td>\n",
       "      <td>Product F</td>\n",
       "      <td>280</td>\n",
       "    </tr>\n",
       "    <tr>\n",
       "      <th>2</th>\n",
       "      <td>Store B</td>\n",
       "      <td>Rep D</td>\n",
       "      <td>Product F</td>\n",
       "      <td>400</td>\n",
       "    </tr>\n",
       "    <tr>\n",
       "      <th>1</th>\n",
       "      <td>Store A</td>\n",
       "      <td>Rep I</td>\n",
       "      <td>Product J</td>\n",
       "      <td>130</td>\n",
       "    </tr>\n",
       "    <tr>\n",
       "      <th>0</th>\n",
       "      <td>Store A</td>\n",
       "      <td>Rep F</td>\n",
       "      <td>Product F</td>\n",
       "      <td>170</td>\n",
       "    </tr>\n",
       "  </tbody>\n",
       "</table>\n",
       "</div>"
      ],
      "text/plain": [
       "      Store Salesperson    Product  TotalSales\n",
       "19  Store J       Rep G  Product A         250\n",
       "18  Store J       Rep A  Product F         150\n",
       "17  Store H       Rep E  Product G         665\n",
       "16  Store H       Rep D  Product H         368\n",
       "15  Store H       Rep A  Product B         450\n",
       "14  Store G       Rep D  Product I          11\n",
       "13  Store G       Rep D  Product E         900\n",
       "12  Store G       Rep D  Product B         675\n",
       "11  Store F       Rep F  Product A          85\n",
       "10  Store F       Rep C  Product E          25\n",
       "9   Store F       Rep B  Product F         140\n",
       "8   Store F       Rep B  Product D          36\n",
       "7   Store F       Rep A  Product A          35\n",
       "6   Store D       Rep D  Product E         375\n",
       "5   Store C       Rep H  Product J         208\n",
       "4   Store C       Rep H  Product B         450\n",
       "3   Store C       Rep B  Product F         280\n",
       "2   Store B       Rep D  Product F         400\n",
       "1   Store A       Rep I  Product J         130\n",
       "0   Store A       Rep F  Product F         170"
      ]
     },
     "execution_count": 33,
     "metadata": {},
     "output_type": "execute_result"
    }
   ],
   "source": [
    "Sort_Store=Sales.sort_values('Store',ascending=False)\n",
    "Sort_Store"
   ]
  },
  {
   "cell_type": "markdown",
   "metadata": {},
   "source": [
    "# To Show the Salespersons in Descending Order;"
   ]
  },
  {
   "cell_type": "code",
   "execution_count": 34,
   "metadata": {},
   "outputs": [
    {
     "data": {
      "text/html": [
       "<div>\n",
       "<style scoped>\n",
       "    .dataframe tbody tr th:only-of-type {\n",
       "        vertical-align: middle;\n",
       "    }\n",
       "\n",
       "    .dataframe tbody tr th {\n",
       "        vertical-align: top;\n",
       "    }\n",
       "\n",
       "    .dataframe thead th {\n",
       "        text-align: right;\n",
       "    }\n",
       "</style>\n",
       "<table border=\"1\" class=\"dataframe\">\n",
       "  <thead>\n",
       "    <tr style=\"text-align: right;\">\n",
       "      <th></th>\n",
       "      <th>Store</th>\n",
       "      <th>Salesperson</th>\n",
       "      <th>Product</th>\n",
       "      <th>TotalSales</th>\n",
       "    </tr>\n",
       "  </thead>\n",
       "  <tbody>\n",
       "    <tr>\n",
       "      <th>1</th>\n",
       "      <td>Store A</td>\n",
       "      <td>Rep I</td>\n",
       "      <td>Product J</td>\n",
       "      <td>130</td>\n",
       "    </tr>\n",
       "    <tr>\n",
       "      <th>5</th>\n",
       "      <td>Store C</td>\n",
       "      <td>Rep H</td>\n",
       "      <td>Product J</td>\n",
       "      <td>208</td>\n",
       "    </tr>\n",
       "    <tr>\n",
       "      <th>4</th>\n",
       "      <td>Store C</td>\n",
       "      <td>Rep H</td>\n",
       "      <td>Product B</td>\n",
       "      <td>450</td>\n",
       "    </tr>\n",
       "    <tr>\n",
       "      <th>19</th>\n",
       "      <td>Store J</td>\n",
       "      <td>Rep G</td>\n",
       "      <td>Product A</td>\n",
       "      <td>250</td>\n",
       "    </tr>\n",
       "    <tr>\n",
       "      <th>11</th>\n",
       "      <td>Store F</td>\n",
       "      <td>Rep F</td>\n",
       "      <td>Product A</td>\n",
       "      <td>85</td>\n",
       "    </tr>\n",
       "    <tr>\n",
       "      <th>0</th>\n",
       "      <td>Store A</td>\n",
       "      <td>Rep F</td>\n",
       "      <td>Product F</td>\n",
       "      <td>170</td>\n",
       "    </tr>\n",
       "    <tr>\n",
       "      <th>17</th>\n",
       "      <td>Store H</td>\n",
       "      <td>Rep E</td>\n",
       "      <td>Product G</td>\n",
       "      <td>665</td>\n",
       "    </tr>\n",
       "    <tr>\n",
       "      <th>6</th>\n",
       "      <td>Store D</td>\n",
       "      <td>Rep D</td>\n",
       "      <td>Product E</td>\n",
       "      <td>375</td>\n",
       "    </tr>\n",
       "    <tr>\n",
       "      <th>2</th>\n",
       "      <td>Store B</td>\n",
       "      <td>Rep D</td>\n",
       "      <td>Product F</td>\n",
       "      <td>400</td>\n",
       "    </tr>\n",
       "    <tr>\n",
       "      <th>12</th>\n",
       "      <td>Store G</td>\n",
       "      <td>Rep D</td>\n",
       "      <td>Product B</td>\n",
       "      <td>675</td>\n",
       "    </tr>\n",
       "    <tr>\n",
       "      <th>13</th>\n",
       "      <td>Store G</td>\n",
       "      <td>Rep D</td>\n",
       "      <td>Product E</td>\n",
       "      <td>900</td>\n",
       "    </tr>\n",
       "    <tr>\n",
       "      <th>14</th>\n",
       "      <td>Store G</td>\n",
       "      <td>Rep D</td>\n",
       "      <td>Product I</td>\n",
       "      <td>11</td>\n",
       "    </tr>\n",
       "    <tr>\n",
       "      <th>16</th>\n",
       "      <td>Store H</td>\n",
       "      <td>Rep D</td>\n",
       "      <td>Product H</td>\n",
       "      <td>368</td>\n",
       "    </tr>\n",
       "    <tr>\n",
       "      <th>10</th>\n",
       "      <td>Store F</td>\n",
       "      <td>Rep C</td>\n",
       "      <td>Product E</td>\n",
       "      <td>25</td>\n",
       "    </tr>\n",
       "    <tr>\n",
       "      <th>8</th>\n",
       "      <td>Store F</td>\n",
       "      <td>Rep B</td>\n",
       "      <td>Product D</td>\n",
       "      <td>36</td>\n",
       "    </tr>\n",
       "    <tr>\n",
       "      <th>9</th>\n",
       "      <td>Store F</td>\n",
       "      <td>Rep B</td>\n",
       "      <td>Product F</td>\n",
       "      <td>140</td>\n",
       "    </tr>\n",
       "    <tr>\n",
       "      <th>3</th>\n",
       "      <td>Store C</td>\n",
       "      <td>Rep B</td>\n",
       "      <td>Product F</td>\n",
       "      <td>280</td>\n",
       "    </tr>\n",
       "    <tr>\n",
       "      <th>7</th>\n",
       "      <td>Store F</td>\n",
       "      <td>Rep A</td>\n",
       "      <td>Product A</td>\n",
       "      <td>35</td>\n",
       "    </tr>\n",
       "    <tr>\n",
       "      <th>15</th>\n",
       "      <td>Store H</td>\n",
       "      <td>Rep A</td>\n",
       "      <td>Product B</td>\n",
       "      <td>450</td>\n",
       "    </tr>\n",
       "    <tr>\n",
       "      <th>18</th>\n",
       "      <td>Store J</td>\n",
       "      <td>Rep A</td>\n",
       "      <td>Product F</td>\n",
       "      <td>150</td>\n",
       "    </tr>\n",
       "  </tbody>\n",
       "</table>\n",
       "</div>"
      ],
      "text/plain": [
       "      Store Salesperson    Product  TotalSales\n",
       "1   Store A       Rep I  Product J         130\n",
       "5   Store C       Rep H  Product J         208\n",
       "4   Store C       Rep H  Product B         450\n",
       "19  Store J       Rep G  Product A         250\n",
       "11  Store F       Rep F  Product A          85\n",
       "0   Store A       Rep F  Product F         170\n",
       "17  Store H       Rep E  Product G         665\n",
       "6   Store D       Rep D  Product E         375\n",
       "2   Store B       Rep D  Product F         400\n",
       "12  Store G       Rep D  Product B         675\n",
       "13  Store G       Rep D  Product E         900\n",
       "14  Store G       Rep D  Product I          11\n",
       "16  Store H       Rep D  Product H         368\n",
       "10  Store F       Rep C  Product E          25\n",
       "8   Store F       Rep B  Product D          36\n",
       "9   Store F       Rep B  Product F         140\n",
       "3   Store C       Rep B  Product F         280\n",
       "7   Store F       Rep A  Product A          35\n",
       "15  Store H       Rep A  Product B         450\n",
       "18  Store J       Rep A  Product F         150"
      ]
     },
     "execution_count": 34,
     "metadata": {},
     "output_type": "execute_result"
    }
   ],
   "source": [
    "Sort_Salesperson=Sales.sort_values('Salesperson',ascending=False)\n",
    "Sort_Salesperson"
   ]
  },
  {
   "cell_type": "markdown",
   "metadata": {},
   "source": [
    "# To Show the Products in Descending Order;"
   ]
  },
  {
   "cell_type": "code",
   "execution_count": 35,
   "metadata": {},
   "outputs": [
    {
     "data": {
      "text/html": [
       "<div>\n",
       "<style scoped>\n",
       "    .dataframe tbody tr th:only-of-type {\n",
       "        vertical-align: middle;\n",
       "    }\n",
       "\n",
       "    .dataframe tbody tr th {\n",
       "        vertical-align: top;\n",
       "    }\n",
       "\n",
       "    .dataframe thead th {\n",
       "        text-align: right;\n",
       "    }\n",
       "</style>\n",
       "<table border=\"1\" class=\"dataframe\">\n",
       "  <thead>\n",
       "    <tr style=\"text-align: right;\">\n",
       "      <th></th>\n",
       "      <th>Store</th>\n",
       "      <th>Salesperson</th>\n",
       "      <th>Product</th>\n",
       "      <th>TotalSales</th>\n",
       "    </tr>\n",
       "  </thead>\n",
       "  <tbody>\n",
       "    <tr>\n",
       "      <th>5</th>\n",
       "      <td>Store C</td>\n",
       "      <td>Rep H</td>\n",
       "      <td>Product J</td>\n",
       "      <td>208</td>\n",
       "    </tr>\n",
       "    <tr>\n",
       "      <th>1</th>\n",
       "      <td>Store A</td>\n",
       "      <td>Rep I</td>\n",
       "      <td>Product J</td>\n",
       "      <td>130</td>\n",
       "    </tr>\n",
       "    <tr>\n",
       "      <th>14</th>\n",
       "      <td>Store G</td>\n",
       "      <td>Rep D</td>\n",
       "      <td>Product I</td>\n",
       "      <td>11</td>\n",
       "    </tr>\n",
       "    <tr>\n",
       "      <th>16</th>\n",
       "      <td>Store H</td>\n",
       "      <td>Rep D</td>\n",
       "      <td>Product H</td>\n",
       "      <td>368</td>\n",
       "    </tr>\n",
       "    <tr>\n",
       "      <th>17</th>\n",
       "      <td>Store H</td>\n",
       "      <td>Rep E</td>\n",
       "      <td>Product G</td>\n",
       "      <td>665</td>\n",
       "    </tr>\n",
       "    <tr>\n",
       "      <th>0</th>\n",
       "      <td>Store A</td>\n",
       "      <td>Rep F</td>\n",
       "      <td>Product F</td>\n",
       "      <td>170</td>\n",
       "    </tr>\n",
       "    <tr>\n",
       "      <th>2</th>\n",
       "      <td>Store B</td>\n",
       "      <td>Rep D</td>\n",
       "      <td>Product F</td>\n",
       "      <td>400</td>\n",
       "    </tr>\n",
       "    <tr>\n",
       "      <th>3</th>\n",
       "      <td>Store C</td>\n",
       "      <td>Rep B</td>\n",
       "      <td>Product F</td>\n",
       "      <td>280</td>\n",
       "    </tr>\n",
       "    <tr>\n",
       "      <th>18</th>\n",
       "      <td>Store J</td>\n",
       "      <td>Rep A</td>\n",
       "      <td>Product F</td>\n",
       "      <td>150</td>\n",
       "    </tr>\n",
       "    <tr>\n",
       "      <th>9</th>\n",
       "      <td>Store F</td>\n",
       "      <td>Rep B</td>\n",
       "      <td>Product F</td>\n",
       "      <td>140</td>\n",
       "    </tr>\n",
       "    <tr>\n",
       "      <th>13</th>\n",
       "      <td>Store G</td>\n",
       "      <td>Rep D</td>\n",
       "      <td>Product E</td>\n",
       "      <td>900</td>\n",
       "    </tr>\n",
       "    <tr>\n",
       "      <th>10</th>\n",
       "      <td>Store F</td>\n",
       "      <td>Rep C</td>\n",
       "      <td>Product E</td>\n",
       "      <td>25</td>\n",
       "    </tr>\n",
       "    <tr>\n",
       "      <th>6</th>\n",
       "      <td>Store D</td>\n",
       "      <td>Rep D</td>\n",
       "      <td>Product E</td>\n",
       "      <td>375</td>\n",
       "    </tr>\n",
       "    <tr>\n",
       "      <th>8</th>\n",
       "      <td>Store F</td>\n",
       "      <td>Rep B</td>\n",
       "      <td>Product D</td>\n",
       "      <td>36</td>\n",
       "    </tr>\n",
       "    <tr>\n",
       "      <th>12</th>\n",
       "      <td>Store G</td>\n",
       "      <td>Rep D</td>\n",
       "      <td>Product B</td>\n",
       "      <td>675</td>\n",
       "    </tr>\n",
       "    <tr>\n",
       "      <th>15</th>\n",
       "      <td>Store H</td>\n",
       "      <td>Rep A</td>\n",
       "      <td>Product B</td>\n",
       "      <td>450</td>\n",
       "    </tr>\n",
       "    <tr>\n",
       "      <th>4</th>\n",
       "      <td>Store C</td>\n",
       "      <td>Rep H</td>\n",
       "      <td>Product B</td>\n",
       "      <td>450</td>\n",
       "    </tr>\n",
       "    <tr>\n",
       "      <th>11</th>\n",
       "      <td>Store F</td>\n",
       "      <td>Rep F</td>\n",
       "      <td>Product A</td>\n",
       "      <td>85</td>\n",
       "    </tr>\n",
       "    <tr>\n",
       "      <th>7</th>\n",
       "      <td>Store F</td>\n",
       "      <td>Rep A</td>\n",
       "      <td>Product A</td>\n",
       "      <td>35</td>\n",
       "    </tr>\n",
       "    <tr>\n",
       "      <th>19</th>\n",
       "      <td>Store J</td>\n",
       "      <td>Rep G</td>\n",
       "      <td>Product A</td>\n",
       "      <td>250</td>\n",
       "    </tr>\n",
       "  </tbody>\n",
       "</table>\n",
       "</div>"
      ],
      "text/plain": [
       "      Store Salesperson    Product  TotalSales\n",
       "5   Store C       Rep H  Product J         208\n",
       "1   Store A       Rep I  Product J         130\n",
       "14  Store G       Rep D  Product I          11\n",
       "16  Store H       Rep D  Product H         368\n",
       "17  Store H       Rep E  Product G         665\n",
       "0   Store A       Rep F  Product F         170\n",
       "2   Store B       Rep D  Product F         400\n",
       "3   Store C       Rep B  Product F         280\n",
       "18  Store J       Rep A  Product F         150\n",
       "9   Store F       Rep B  Product F         140\n",
       "13  Store G       Rep D  Product E         900\n",
       "10  Store F       Rep C  Product E          25\n",
       "6   Store D       Rep D  Product E         375\n",
       "8   Store F       Rep B  Product D          36\n",
       "12  Store G       Rep D  Product B         675\n",
       "15  Store H       Rep A  Product B         450\n",
       "4   Store C       Rep H  Product B         450\n",
       "11  Store F       Rep F  Product A          85\n",
       "7   Store F       Rep A  Product A          35\n",
       "19  Store J       Rep G  Product A         250"
      ]
     },
     "execution_count": 35,
     "metadata": {},
     "output_type": "execute_result"
    }
   ],
   "source": [
    "Sort_Products=Sales.sort_values('Product',ascending=False)\n",
    "Sort_Products"
   ]
  },
  {
   "cell_type": "markdown",
   "metadata": {},
   "source": [
    "# To Show the Sort of TotalSales in Descending Order;"
   ]
  },
  {
   "cell_type": "code",
   "execution_count": 36,
   "metadata": {},
   "outputs": [
    {
     "data": {
      "text/html": [
       "<div>\n",
       "<style scoped>\n",
       "    .dataframe tbody tr th:only-of-type {\n",
       "        vertical-align: middle;\n",
       "    }\n",
       "\n",
       "    .dataframe tbody tr th {\n",
       "        vertical-align: top;\n",
       "    }\n",
       "\n",
       "    .dataframe thead th {\n",
       "        text-align: right;\n",
       "    }\n",
       "</style>\n",
       "<table border=\"1\" class=\"dataframe\">\n",
       "  <thead>\n",
       "    <tr style=\"text-align: right;\">\n",
       "      <th></th>\n",
       "      <th>Store</th>\n",
       "      <th>Salesperson</th>\n",
       "      <th>Product</th>\n",
       "      <th>TotalSales</th>\n",
       "    </tr>\n",
       "  </thead>\n",
       "  <tbody>\n",
       "    <tr>\n",
       "      <th>13</th>\n",
       "      <td>Store G</td>\n",
       "      <td>Rep D</td>\n",
       "      <td>Product E</td>\n",
       "      <td>900</td>\n",
       "    </tr>\n",
       "    <tr>\n",
       "      <th>12</th>\n",
       "      <td>Store G</td>\n",
       "      <td>Rep D</td>\n",
       "      <td>Product B</td>\n",
       "      <td>675</td>\n",
       "    </tr>\n",
       "    <tr>\n",
       "      <th>17</th>\n",
       "      <td>Store H</td>\n",
       "      <td>Rep E</td>\n",
       "      <td>Product G</td>\n",
       "      <td>665</td>\n",
       "    </tr>\n",
       "    <tr>\n",
       "      <th>4</th>\n",
       "      <td>Store C</td>\n",
       "      <td>Rep H</td>\n",
       "      <td>Product B</td>\n",
       "      <td>450</td>\n",
       "    </tr>\n",
       "    <tr>\n",
       "      <th>15</th>\n",
       "      <td>Store H</td>\n",
       "      <td>Rep A</td>\n",
       "      <td>Product B</td>\n",
       "      <td>450</td>\n",
       "    </tr>\n",
       "    <tr>\n",
       "      <th>2</th>\n",
       "      <td>Store B</td>\n",
       "      <td>Rep D</td>\n",
       "      <td>Product F</td>\n",
       "      <td>400</td>\n",
       "    </tr>\n",
       "    <tr>\n",
       "      <th>6</th>\n",
       "      <td>Store D</td>\n",
       "      <td>Rep D</td>\n",
       "      <td>Product E</td>\n",
       "      <td>375</td>\n",
       "    </tr>\n",
       "    <tr>\n",
       "      <th>16</th>\n",
       "      <td>Store H</td>\n",
       "      <td>Rep D</td>\n",
       "      <td>Product H</td>\n",
       "      <td>368</td>\n",
       "    </tr>\n",
       "    <tr>\n",
       "      <th>3</th>\n",
       "      <td>Store C</td>\n",
       "      <td>Rep B</td>\n",
       "      <td>Product F</td>\n",
       "      <td>280</td>\n",
       "    </tr>\n",
       "    <tr>\n",
       "      <th>19</th>\n",
       "      <td>Store J</td>\n",
       "      <td>Rep G</td>\n",
       "      <td>Product A</td>\n",
       "      <td>250</td>\n",
       "    </tr>\n",
       "    <tr>\n",
       "      <th>5</th>\n",
       "      <td>Store C</td>\n",
       "      <td>Rep H</td>\n",
       "      <td>Product J</td>\n",
       "      <td>208</td>\n",
       "    </tr>\n",
       "    <tr>\n",
       "      <th>0</th>\n",
       "      <td>Store A</td>\n",
       "      <td>Rep F</td>\n",
       "      <td>Product F</td>\n",
       "      <td>170</td>\n",
       "    </tr>\n",
       "    <tr>\n",
       "      <th>18</th>\n",
       "      <td>Store J</td>\n",
       "      <td>Rep A</td>\n",
       "      <td>Product F</td>\n",
       "      <td>150</td>\n",
       "    </tr>\n",
       "    <tr>\n",
       "      <th>9</th>\n",
       "      <td>Store F</td>\n",
       "      <td>Rep B</td>\n",
       "      <td>Product F</td>\n",
       "      <td>140</td>\n",
       "    </tr>\n",
       "    <tr>\n",
       "      <th>1</th>\n",
       "      <td>Store A</td>\n",
       "      <td>Rep I</td>\n",
       "      <td>Product J</td>\n",
       "      <td>130</td>\n",
       "    </tr>\n",
       "    <tr>\n",
       "      <th>11</th>\n",
       "      <td>Store F</td>\n",
       "      <td>Rep F</td>\n",
       "      <td>Product A</td>\n",
       "      <td>85</td>\n",
       "    </tr>\n",
       "    <tr>\n",
       "      <th>8</th>\n",
       "      <td>Store F</td>\n",
       "      <td>Rep B</td>\n",
       "      <td>Product D</td>\n",
       "      <td>36</td>\n",
       "    </tr>\n",
       "    <tr>\n",
       "      <th>7</th>\n",
       "      <td>Store F</td>\n",
       "      <td>Rep A</td>\n",
       "      <td>Product A</td>\n",
       "      <td>35</td>\n",
       "    </tr>\n",
       "    <tr>\n",
       "      <th>10</th>\n",
       "      <td>Store F</td>\n",
       "      <td>Rep C</td>\n",
       "      <td>Product E</td>\n",
       "      <td>25</td>\n",
       "    </tr>\n",
       "    <tr>\n",
       "      <th>14</th>\n",
       "      <td>Store G</td>\n",
       "      <td>Rep D</td>\n",
       "      <td>Product I</td>\n",
       "      <td>11</td>\n",
       "    </tr>\n",
       "  </tbody>\n",
       "</table>\n",
       "</div>"
      ],
      "text/plain": [
       "      Store Salesperson    Product  TotalSales\n",
       "13  Store G       Rep D  Product E         900\n",
       "12  Store G       Rep D  Product B         675\n",
       "17  Store H       Rep E  Product G         665\n",
       "4   Store C       Rep H  Product B         450\n",
       "15  Store H       Rep A  Product B         450\n",
       "2   Store B       Rep D  Product F         400\n",
       "6   Store D       Rep D  Product E         375\n",
       "16  Store H       Rep D  Product H         368\n",
       "3   Store C       Rep B  Product F         280\n",
       "19  Store J       Rep G  Product A         250\n",
       "5   Store C       Rep H  Product J         208\n",
       "0   Store A       Rep F  Product F         170\n",
       "18  Store J       Rep A  Product F         150\n",
       "9   Store F       Rep B  Product F         140\n",
       "1   Store A       Rep I  Product J         130\n",
       "11  Store F       Rep F  Product A          85\n",
       "8   Store F       Rep B  Product D          36\n",
       "7   Store F       Rep A  Product A          35\n",
       "10  Store F       Rep C  Product E          25\n",
       "14  Store G       Rep D  Product I          11"
      ]
     },
     "execution_count": 36,
     "metadata": {},
     "output_type": "execute_result"
    }
   ],
   "source": [
    "Sort_TotalSales=Sales.sort_values('TotalSales',ascending=False)\n",
    "Sort_TotalSales"
   ]
  },
  {
   "cell_type": "markdown",
   "metadata": {},
   "source": [
    "# To view the record of Store;"
   ]
  },
  {
   "cell_type": "code",
   "execution_count": 37,
   "metadata": {},
   "outputs": [
    {
     "data": {
      "text/plain": [
       "0     Store A\n",
       "1     Store A\n",
       "2     Store B\n",
       "3     Store C\n",
       "4     Store C\n",
       "5     Store C\n",
       "6     Store D\n",
       "7     Store F\n",
       "8     Store F\n",
       "9     Store F\n",
       "10    Store F\n",
       "11    Store F\n",
       "12    Store G\n",
       "13    Store G\n",
       "14    Store G\n",
       "15    Store H\n",
       "16    Store H\n",
       "17    Store H\n",
       "18    Store J\n",
       "19    Store J\n",
       "Name: Store, dtype: object"
      ]
     },
     "execution_count": 37,
     "metadata": {},
     "output_type": "execute_result"
    }
   ],
   "source": [
    "Sales_store=Sales['Store']\n",
    "Sales_store"
   ]
  },
  {
   "cell_type": "markdown",
   "metadata": {},
   "source": [
    "# To view the record of Salespersons;"
   ]
  },
  {
   "cell_type": "code",
   "execution_count": 38,
   "metadata": {},
   "outputs": [
    {
     "data": {
      "text/plain": [
       "0     Rep F\n",
       "1     Rep I\n",
       "2     Rep D\n",
       "3     Rep B\n",
       "4     Rep H\n",
       "5     Rep H\n",
       "6     Rep D\n",
       "7     Rep A\n",
       "8     Rep B\n",
       "9     Rep B\n",
       "10    Rep C\n",
       "11    Rep F\n",
       "12    Rep D\n",
       "13    Rep D\n",
       "14    Rep D\n",
       "15    Rep A\n",
       "16    Rep D\n",
       "17    Rep E\n",
       "18    Rep A\n",
       "19    Rep G\n",
       "Name: Salesperson, dtype: object"
      ]
     },
     "execution_count": 38,
     "metadata": {},
     "output_type": "execute_result"
    }
   ],
   "source": [
    "Sales_Salesperson=Sales['Salesperson']\n",
    "Sales_Salesperson"
   ]
  },
  {
   "cell_type": "markdown",
   "metadata": {},
   "source": [
    "# To view the record of Products;"
   ]
  },
  {
   "cell_type": "code",
   "execution_count": 39,
   "metadata": {},
   "outputs": [
    {
     "data": {
      "text/plain": [
       "0     Product F\n",
       "1     Product J\n",
       "2     Product F\n",
       "3     Product F\n",
       "4     Product B\n",
       "5     Product J\n",
       "6     Product E\n",
       "7     Product A\n",
       "8     Product D\n",
       "9     Product F\n",
       "10    Product E\n",
       "11    Product A\n",
       "12    Product B\n",
       "13    Product E\n",
       "14    Product I\n",
       "15    Product B\n",
       "16    Product H\n",
       "17    Product G\n",
       "18    Product F\n",
       "19    Product A\n",
       "Name: Product, dtype: object"
      ]
     },
     "execution_count": 39,
     "metadata": {},
     "output_type": "execute_result"
    }
   ],
   "source": [
    "Sales_Product=Sales['Product']\n",
    "Sales_Product"
   ]
  },
  {
   "cell_type": "markdown",
   "metadata": {},
   "source": [
    "# To view the record of TotalSales;"
   ]
  },
  {
   "cell_type": "code",
   "execution_count": 40,
   "metadata": {},
   "outputs": [
    {
     "data": {
      "text/plain": [
       "0     170\n",
       "1     130\n",
       "2     400\n",
       "3     280\n",
       "4     450\n",
       "5     208\n",
       "6     375\n",
       "7      35\n",
       "8      36\n",
       "9     140\n",
       "10     25\n",
       "11     85\n",
       "12    675\n",
       "13    900\n",
       "14     11\n",
       "15    450\n",
       "16    368\n",
       "17    665\n",
       "18    150\n",
       "19    250\n",
       "Name: TotalSales, dtype: int64"
      ]
     },
     "execution_count": 40,
     "metadata": {},
     "output_type": "execute_result"
    }
   ],
   "source": [
    "Sales_TotalSales=Sales['TotalSales']\n",
    "Sales_TotalSales"
   ]
  },
  {
   "cell_type": "markdown",
   "metadata": {},
   "source": [
    "# Sales Data visualisation;"
   ]
  },
  {
   "cell_type": "markdown",
   "metadata": {},
   "source": [
    "# The Following Bar graph Shows that the TotalSales by Stores;"
   ]
  },
  {
   "cell_type": "code",
   "execution_count": 41,
   "metadata": {
    "scrolled": true
   },
   "outputs": [
    {
     "data": {
      "image/png": "[encoded data removed]",
      "text/plain": [
       "<Figure size 720x360 with 1 Axes>"
      ]
     },
     "metadata": {
      "needs_background": "light"
     },
     "output_type": "display_data"
    }
   ],
   "source": [
    "plt.figure(figsize=(10,5))\n",
    "plt.bar(Sales['Store'],Sales['TotalSales'],color='r',width=0.5)\n",
    "plt.title(\" TotalSales by Store \")\n",
    "plt.xlabel(\"Store\")\n",
    "plt.ylabel(\"TotalSales\")\n",
    "plt.show()"
   ]
  },
  {
   "cell_type": "markdown",
   "metadata": {},
   "source": [
    "# The Following Bar graph Shows that the TotalSales by Products;"
   ]
  },
  {
   "cell_type": "code",
   "execution_count": 42,
   "metadata": {},
   "outputs": [
    {
     "data": {
      "image/png": "[encoded data removed]",
      "text/plain": [
       "<Figure size 720x360 with 1 Axes>"
      ]
     },
     "metadata": {
      "needs_background": "light"
     },
     "output_type": "display_data"
    }
   ],
   "source": [
    "plt.figure(figsize=(10,5))\n",
    "plt.bar(Sales['Product'],Sales['TotalSales'],color='b',width=0.5)\n",
    "plt.title(\" TotalSales by Product \")\n",
    "plt.xlabel(\"Product\")\n",
    "plt.ylabel(\"TotalSales\")\n",
    "plt.show()"
   ]
  },
  {
   "cell_type": "markdown",
   "metadata": {},
   "source": [
    "# The Following hbar graph Shows that the TotalSales by Salespersons;"
   ]
  },
  {
   "cell_type": "code",
   "execution_count": 43,
   "metadata": {},
   "outputs": [
    {
     "data": {
      "image/png": "[encoded data removed]",
      "text/plain": [
       "<Figure size 720x360 with 1 Axes>"
      ]
     },
     "metadata": {
      "needs_background": "light"
     },
     "output_type": "display_data"
    }
   ],
   "source": [
    "plt.figure(figsize=(10,5))\n",
    "plt.barh(Sales['Salesperson'],Sales['TotalSales'],color='g',height=0.5)\n",
    "plt.title(\"TotalSales by Salesperson \")\n",
    "plt.xlabel(\"TotalSales\")\n",
    "plt.ylabel(\"Salesperson\")\n",
    "plt.show()"
   ]
  },
  {
   "cell_type": "markdown",
   "metadata": {},
   "source": [
    "# The following Stripplot Shows that The TotalSales of Products by Stores;"
   ]
  },
  {
   "cell_type": "code",
   "execution_count": 45,
   "metadata": {
    "scrolled": true
   },
   "outputs": [
    {
     "data": {
      "image/png": "[encoded data removed]",
      "text/plain": [
       "<Figure size 720x360 with 1 Axes>"
      ]
     },
     "metadata": {},
     "output_type": "display_data"
    }
   ],
   "source": [
    "plt.figure(figsize=(10,5))\n",
    "sns.set_style(\"darkgrid\")\n",
    "sns.stripplot(x=\"Product\",y=\"TotalSales\",hue=\"Store\",s=15,alpha=0.9,jitter=0.40, dodge=True, data=Sales)\n",
    "plt.show()"
   ]
  },
  {
   "cell_type": "markdown",
   "metadata": {},
   "source": [
    "# The following Scatterplot Shows that The TotalSales of Products by Stores;"
   ]
  },
  {
   "cell_type": "code",
   "execution_count": 47,
   "metadata": {},
   "outputs": [
    {
     "data": {
      "image/png": "[encoded data removed]",
      "text/plain": [
       "<Figure size 720x360 with 1 Axes>"
      ]
     },
     "metadata": {},
     "output_type": "display_data"
    }
   ],
   "source": [
    "plt.figure(figsize=(10,5))\n",
    "sns.set_style(\"whitegrid\")\n",
    "sns.scatterplot(x='Product',y='TotalSales',style='Store',s=200,alpha=0.9,data=Sales)\n",
    "plt.show()"
   ]
  },
  {
   "cell_type": "markdown",
   "metadata": {},
   "source": [
    "# The following relplot Shows that The Total Sales of Products by Stores;"
   ]
  },
  {
   "cell_type": "code",
   "execution_count": 49,
   "metadata": {},
   "outputs": [
    {
     "data": {
      "text/plain": [
       "<Figure size 720x360 with 0 Axes>"
      ]
     },
     "metadata": {},
     "output_type": "display_data"
    },
    {
     "data": {
      "image/png": "[encoded data removed]",
      "text/plain": [
       "<Figure size 430.5x360 with 1 Axes>"
      ]
     },
     "metadata": {},
     "output_type": "display_data"
    }
   ],
   "source": [
    "plt.figure(figsize=(10,5))\n",
    "sns.set_style(\"darkgrid\")\n",
    "sns.relplot(x='Product',y='TotalSales',hue='Store',s=200,alpha=0.9,data=Sales)\n",
    "plt.show()"
   ]
  },
  {
   "cell_type": "markdown",
   "metadata": {},
   "source": [
    "# The following catplot Shows that The TotalSales of Products by Stores;"
   ]
  },
  {
   "cell_type": "code",
   "execution_count": 51,
   "metadata": {},
   "outputs": [
    {
     "data": {
      "text/plain": [
       "<Figure size 720x360 with 0 Axes>"
      ]
     },
     "metadata": {},
     "output_type": "display_data"
    },
    {
     "data": {
      "image/png": "[encoded data removed]",
      "text/plain": [
       "<Figure size 430.5x360 with 1 Axes>"
      ]
     },
     "metadata": {},
     "output_type": "display_data"
    }
   ],
   "source": [
    "plt.figure(figsize=(10,5))\n",
    "sns.set_style(\"darkgrid\")\n",
    "sns.catplot(x='Product',y='TotalSales',hue='Store',s=15,alpha=0.9,data=Sales)\n",
    "plt.show()"
   ]
  },
  {
   "cell_type": "markdown",
   "metadata": {},
   "source": [
    "# Kde Plot;"
   ]
  },
  {
   "cell_type": "code",
   "execution_count": 52,
   "metadata": {},
   "outputs": [
    {
     "data": {
      "image/png": "[encoded data removed]",
      "text/plain": [
       "<Figure size 432x288 with 1 Axes>"
      ]
     },
     "metadata": {},
     "output_type": "display_data"
    }
   ],
   "source": [
    "sns.kdeplot(Sales['TotalSales'],color='green',shade=True)\n",
    "plt.show()"
   ]
  },
  {
   "cell_type": "code",
   "execution_count": 53,
   "metadata": {},
   "outputs": [
    {
     "data": {
      "image/png": "[encoded data removed]",
      "text/plain": [
       "<Figure size 180x180 with 2 Axes>"
      ]
     },
     "metadata": {},
     "output_type": "display_data"
    }
   ],
   "source": [
    "sns.pairplot(Sales,diag_kind=\"hist\")\n",
    "plt.show()"
   ]
  },
  {
   "cell_type": "markdown",
   "metadata": {},
   "source": [
    "# The following violinplot Shows that The TotalSales of Product by Stores;"
   ]
  },
  {
   "cell_type": "code",
   "execution_count": 54,
   "metadata": {},
   "outputs": [
    {
     "data": {
      "image/png": "[encoded data removed]",
      "text/plain": [
       "<Figure size 720x360 with 1 Axes>"
      ]
     },
     "metadata": {},
     "output_type": "display_data"
    }
   ],
   "source": [
    "plt.figure(figsize=(10,5))\n",
    "sns.set_style(\"darkgrid\")\n",
    "sns.violinplot(x='Product',y='TotalSales',data=Sales)\n",
    "plt.show()"
   ]
  },
  {
   "cell_type": "code",
   "execution_count": 66,
   "metadata": {},
   "outputs": [
    {
     "data": {
      "image/png": "[encoded data removed]",
      "text/plain": [
       "<Figure size 720x360 with 1 Axes>"
      ]
     },
     "metadata": {},
     "output_type": "display_data"
    }
   ],
   "source": [
    "plt.figure(figsize=(10,5))\n",
    "sns.violinplot(x='Product',y='TotalSales',hue=\"Store\",data=Sales)\n",
    "plt.show()"
   ]
  },
  {
   "cell_type": "markdown",
   "metadata": {},
   "source": [
    "# The following swarmplot Shows that The TotalSales of Products by Stores;"
   ]
  },
  {
   "cell_type": "code",
   "execution_count": 57,
   "metadata": {},
   "outputs": [
    {
     "data": {
      "image/png": "[encoded data removed]",
      "text/plain": [
       "<Figure size 720x360 with 1 Axes>"
      ]
     },
     "metadata": {},
     "output_type": "display_data"
    }
   ],
   "source": [
    "plt.figure(figsize=(10,5))\n",
    "sns.set_style(\"darkgrid\")\n",
    "sns.swarmplot(x='Product',y='TotalSales',hue=\"Store\",s=10,alpha=0.9,dodge=True,data=Sales)\n",
    "plt.show()"
   ]
  },
  {
   "cell_type": "markdown",
   "metadata": {},
   "source": [
    "# The following boxplot Shows that The TotalSales of Products by Stores;"
   ]
  },
  {
   "cell_type": "code",
   "execution_count": 58,
   "metadata": {},
   "outputs": [
    {
     "data": {
      "image/png": "[encoded data removed]",
      "text/plain": [
       "<Figure size 720x360 with 1 Axes>"
      ]
     },
     "metadata": {},
     "output_type": "display_data"
    }
   ],
   "source": [
    "plt.figure(figsize=(10,5))\n",
    "sns.set_style(\"darkgrid\")\n",
    "sns.boxplot(x='Product',y='TotalSales',width=0.7,data=Sales)\n",
    "plt.show()"
   ]
  },
  {
   "cell_type": "code",
   "execution_count": 59,
   "metadata": {},
   "outputs": [
    {
     "data": {
      "image/png": "[encoded data removed]",
      "text/plain": [
       "<Figure size 720x360 with 1 Axes>"
      ]
     },
     "metadata": {},
     "output_type": "display_data"
    }
   ],
   "source": [
    "plt.figure(figsize=(10,5))\n",
    "sns.set_style(\"darkgrid\")\n",
    "sns.boxplot(x='Product',y='TotalSales',hue='Store',width=0.7,data=Sales)\n",
    "plt.show()"
   ]
  },
  {
   "cell_type": "markdown",
   "metadata": {},
   "source": [
    "# The following catplot Shows that The TotalSales of products by Stores;"
   ]
  },
  {
   "cell_type": "code",
   "execution_count": 72,
   "metadata": {},
   "outputs": [
    {
     "data": {
      "text/plain": [
       "<Figure size 720x360 with 0 Axes>"
      ]
     },
     "metadata": {},
     "output_type": "display_data"
    },
    {
     "data": {
      "image/png": "[encoded data removed]",
      "text/plain": [
       "<Figure size 430.5x360 with 1 Axes>"
      ]
     },
     "metadata": {},
     "output_type": "display_data"
    }
   ],
   "source": [
    "plt.figure(figsize=(10,5))\n",
    "sns.set_style(\"darkgrid\")\n",
    "sns.catplot(x='Product',y='TotalSales',hue='Store',s=10,alpha=0.9,data=Sales)\n",
    "plt.show()"
   ]
  },
  {
   "cell_type": "markdown",
   "metadata": {},
   "source": [
    "# Correlation;"
   ]
  },
  {
   "cell_type": "code",
   "execution_count": 61,
   "metadata": {},
   "outputs": [
    {
     "data": {
      "text/html": [
       "<div>\n",
       "<style scoped>\n",
       "    .dataframe tbody tr th:only-of-type {\n",
       "        vertical-align: middle;\n",
       "    }\n",
       "\n",
       "    .dataframe tbody tr th {\n",
       "        vertical-align: top;\n",
       "    }\n",
       "\n",
       "    .dataframe thead th {\n",
       "        text-align: right;\n",
       "    }\n",
       "</style>\n",
       "<table border=\"1\" class=\"dataframe\">\n",
       "  <thead>\n",
       "    <tr style=\"text-align: right;\">\n",
       "      <th></th>\n",
       "      <th>TotalSales</th>\n",
       "    </tr>\n",
       "  </thead>\n",
       "  <tbody>\n",
       "    <tr>\n",
       "      <th>TotalSales</th>\n",
       "      <td>1.0</td>\n",
       "    </tr>\n",
       "  </tbody>\n",
       "</table>\n",
       "</div>"
      ],
      "text/plain": [
       "            TotalSales\n",
       "TotalSales         1.0"
      ]
     },
     "execution_count": 61,
     "metadata": {},
     "output_type": "execute_result"
    }
   ],
   "source": [
    "Sales.corr()"
   ]
  },
  {
   "cell_type": "markdown",
   "metadata": {},
   "source": [
    "# Heat Map"
   ]
  },
  {
   "cell_type": "code",
   "execution_count": 62,
   "metadata": {},
   "outputs": [
    {
     "data": {
      "image/png": "[encoded data removed]",
      "text/plain": [
       "<Figure size 432x288 with 2 Axes>"
      ]
     },
     "metadata": {},
     "output_type": "display_data"
    }
   ],
   "source": [
    "sns.heatmap(Sales.corr(),annot=True)\n",
    "plt.show()"
   ]
  },
  {
   "cell_type": "markdown",
   "metadata": {},
   "source": [
    "# Distributon Plot;"
   ]
  },
  {
   "cell_type": "code",
   "execution_count": 63,
   "metadata": {},
   "outputs": [
    {
     "data": {
      "image/png": "[encoded data removed]",
      "text/plain": [
       "<Figure size 432x288 with 1 Axes>"
      ]
     },
     "metadata": {},
     "output_type": "display_data"
    }
   ],
   "source": [
    "sns.distplot(Sales.TotalSales)\n",
    "plt.show()"
   ]
  },
  {
   "cell_type": "code",
   "execution_count": null,
   "metadata": {},
   "outputs": [],
   "source": [
    "Conclusion;\n",
    "1.The \"Store F\" has Maximum ToatlSales And \"Store G\" has Minimum TotalSales.\n",
    "2.The \"Product I\" has Maximum TotalSales And \"Product E\" has Minimum TotalSales.\n",
    "3.The \"Rep C\" has Maximum TotalSales And \"Rep D\" has Minimum TotalSales."
   ]
  }
 ],
 "metadata": {
  "kernelspec": {
   "display_name": "Python 3",
   "language": "python",
   "name": "python3"
  },
  "language_info": {
   "codemirror_mode": {
    "name": "ipython",
    "version": 3
   },
   "file_extension": ".py",
   "mimetype": "text/x-python",
   "name": "python",
   "nbconvert_exporter": "python",
   "pygments_lexer": "ipython3",
   "version": "3.8.5"
  }
 },
 "nbformat": 4,
 "nbformat_minor": 4
}
